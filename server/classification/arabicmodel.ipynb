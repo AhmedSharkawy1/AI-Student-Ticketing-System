{
 "cells": [
  {
   "cell_type": "code",
   "execution_count": 1,
   "id": "3df30e8c",
   "metadata": {
    "_cell_guid": "b1076dfc-b9ad-4769-8c92-a6c4dae69d19",
    "_uuid": "8f2839f25d086af736a60e9eeb907d3b93b6e0e5",
    "execution": {
     "iopub.execute_input": "2025-09-29T13:09:57.423990Z",
     "iopub.status.busy": "2025-09-29T13:09:57.423690Z",
     "iopub.status.idle": "2025-09-29T13:09:58.812170Z",
     "shell.execute_reply": "2025-09-29T13:09:58.811360Z"
    },
    "papermill": {
     "duration": 1.397009,
     "end_time": "2025-09-29T13:09:58.813671",
     "exception": false,
     "start_time": "2025-09-29T13:09:57.416662",
     "status": "completed"
    },
    "tags": []
   },
   "outputs": [],
   "source": [
    "import numpy as np # linear algebra\n",
    "import pandas as pd # data processing, CSV file I/O (e.g. pd.read_csv)"
   ]
  },
  {
   "cell_type": "code",
   "execution_count": 2,
   "id": "1ee5c35e",
   "metadata": {
    "execution": {
     "iopub.execute_input": "2025-09-29T13:09:58.826786Z",
     "iopub.status.busy": "2025-09-29T13:09:58.826020Z",
     "iopub.status.idle": "2025-09-29T13:09:58.868195Z",
     "shell.execute_reply": "2025-09-29T13:09:58.867337Z"
    },
    "papermill": {
     "duration": 0.050103,
     "end_time": "2025-09-29T13:09:58.869675",
     "exception": false,
     "start_time": "2025-09-29T13:09:58.819572",
     "status": "completed"
    },
    "tags": []
   },
   "outputs": [],
   "source": [
    "complaints = pd.read_csv(\"/kaggle/input/complaints/complaints.csv\")"
   ]
  },
  {
   "cell_type": "code",
   "execution_count": 3,
   "id": "22319573",
   "metadata": {
    "execution": {
     "iopub.execute_input": "2025-09-29T13:09:58.881256Z",
     "iopub.status.busy": "2025-09-29T13:09:58.881034Z",
     "iopub.status.idle": "2025-09-29T13:09:58.907613Z",
     "shell.execute_reply": "2025-09-29T13:09:58.906746Z"
    },
    "papermill": {
     "duration": 0.033499,
     "end_time": "2025-09-29T13:09:58.908759",
     "exception": false,
     "start_time": "2025-09-29T13:09:58.875260",
     "status": "completed"
    },
    "tags": []
   },
   "outputs": [
    {
     "name": "stdout",
     "output_type": "stream",
     "text": [
      "<class 'pandas.core.frame.DataFrame'>\n",
      "RangeIndex: 5788 entries, 0 to 5787\n",
      "Data columns (total 9 columns):\n",
      " #   Column          Non-Null Count  Dtype  \n",
      "---  ------          --------------  -----  \n",
      " 0   Ticket_ID       5788 non-null   object \n",
      " 1   Student_ID      5788 non-null   object \n",
      " 2   Category        5788 non-null   object \n",
      " 3   Complaint_Text  5788 non-null   object \n",
      " 4   Priority        5787 non-null   object \n",
      " 5   Status          5787 non-null   object \n",
      " 6   Date_Submitted  5771 non-null   object \n",
      " 7   Unnamed: 0.1    3286 non-null   float64\n",
      " 8   Unnamed: 0      991 non-null    float64\n",
      "dtypes: float64(2), object(7)\n",
      "memory usage: 407.1+ KB\n"
     ]
    }
   ],
   "source": [
    "complaints.info()"
   ]
  },
  {
   "cell_type": "code",
   "execution_count": 4,
   "id": "0905c120",
   "metadata": {
    "execution": {
     "iopub.execute_input": "2025-09-29T13:09:58.920041Z",
     "iopub.status.busy": "2025-09-29T13:09:58.919824Z",
     "iopub.status.idle": "2025-09-29T13:09:58.965568Z",
     "shell.execute_reply": "2025-09-29T13:09:58.964628Z"
    },
    "papermill": {
     "duration": 0.052737,
     "end_time": "2025-09-29T13:09:58.966772",
     "exception": false,
     "start_time": "2025-09-29T13:09:58.914035",
     "status": "completed"
    },
    "tags": []
   },
   "outputs": [
    {
     "name": "stderr",
     "output_type": "stream",
     "text": [
      "/usr/local/lib/python3.11/dist-packages/pandas/io/formats/format.py:1458: RuntimeWarning: invalid value encountered in greater\n",
      "  has_large_values = (abs_vals > 1e6).any()\n",
      "/usr/local/lib/python3.11/dist-packages/pandas/io/formats/format.py:1459: RuntimeWarning: invalid value encountered in less\n",
      "  has_small_values = ((abs_vals < 10 ** (-self.digits)) & (abs_vals > 0)).any()\n",
      "/usr/local/lib/python3.11/dist-packages/pandas/io/formats/format.py:1459: RuntimeWarning: invalid value encountered in greater\n",
      "  has_small_values = ((abs_vals < 10 ** (-self.digits)) & (abs_vals > 0)).any()\n"
     ]
    },
    {
     "data": {
      "text/html": [
       "<div>\n",
       "<style scoped>\n",
       "    .dataframe tbody tr th:only-of-type {\n",
       "        vertical-align: middle;\n",
       "    }\n",
       "\n",
       "    .dataframe tbody tr th {\n",
       "        vertical-align: top;\n",
       "    }\n",
       "\n",
       "    .dataframe thead th {\n",
       "        text-align: right;\n",
       "    }\n",
       "</style>\n",
       "<table border=\"1\" class=\"dataframe\">\n",
       "  <thead>\n",
       "    <tr style=\"text-align: right;\">\n",
       "      <th></th>\n",
       "      <th>Ticket_ID</th>\n",
       "      <th>Student_ID</th>\n",
       "      <th>Category</th>\n",
       "      <th>Complaint_Text</th>\n",
       "      <th>Priority</th>\n",
       "      <th>Status</th>\n",
       "      <th>Date_Submitted</th>\n",
       "      <th>Unnamed: 0.1</th>\n",
       "      <th>Unnamed: 0</th>\n",
       "    </tr>\n",
       "  </thead>\n",
       "  <tbody>\n",
       "    <tr>\n",
       "      <th>count</th>\n",
       "      <td>5788</td>\n",
       "      <td>5788</td>\n",
       "      <td>5788</td>\n",
       "      <td>5788</td>\n",
       "      <td>5787</td>\n",
       "      <td>5787</td>\n",
       "      <td>5771</td>\n",
       "      <td>3286.000000</td>\n",
       "      <td>991.000000</td>\n",
       "    </tr>\n",
       "    <tr>\n",
       "      <th>unique</th>\n",
       "      <td>1300</td>\n",
       "      <td>2778</td>\n",
       "      <td>4</td>\n",
       "      <td>5788</td>\n",
       "      <td>7</td>\n",
       "      <td>19</td>\n",
       "      <td>820</td>\n",
       "      <td>NaN</td>\n",
       "      <td>NaN</td>\n",
       "    </tr>\n",
       "    <tr>\n",
       "      <th>top</th>\n",
       "      <td>TCKT0090</td>\n",
       "      <td>S11234</td>\n",
       "      <td>Academic Support and Resources</td>\n",
       "      <td>Dear Team, My university email rejects attachm...</td>\n",
       "      <td>Medium</td>\n",
       "      <td>Open</td>\n",
       "      <td>2025-08-31</td>\n",
       "      <td>NaN</td>\n",
       "      <td>NaN</td>\n",
       "    </tr>\n",
       "    <tr>\n",
       "      <th>freq</th>\n",
       "      <td>10</td>\n",
       "      <td>15</td>\n",
       "      <td>1483</td>\n",
       "      <td>1</td>\n",
       "      <td>2892</td>\n",
       "      <td>3469</td>\n",
       "      <td>72</td>\n",
       "      <td>NaN</td>\n",
       "      <td>NaN</td>\n",
       "    </tr>\n",
       "    <tr>\n",
       "      <th>mean</th>\n",
       "      <td>NaN</td>\n",
       "      <td>NaN</td>\n",
       "      <td>NaN</td>\n",
       "      <td>NaN</td>\n",
       "      <td>NaN</td>\n",
       "      <td>NaN</td>\n",
       "      <td>NaN</td>\n",
       "      <td>1642.500000</td>\n",
       "      <td>514.889001</td>\n",
       "    </tr>\n",
       "    <tr>\n",
       "      <th>std</th>\n",
       "      <td>NaN</td>\n",
       "      <td>NaN</td>\n",
       "      <td>NaN</td>\n",
       "      <td>NaN</td>\n",
       "      <td>NaN</td>\n",
       "      <td>NaN</td>\n",
       "      <td>NaN</td>\n",
       "      <td>948.730819</td>\n",
       "      <td>294.264098</td>\n",
       "    </tr>\n",
       "    <tr>\n",
       "      <th>min</th>\n",
       "      <td>NaN</td>\n",
       "      <td>NaN</td>\n",
       "      <td>NaN</td>\n",
       "      <td>NaN</td>\n",
       "      <td>NaN</td>\n",
       "      <td>NaN</td>\n",
       "      <td>NaN</td>\n",
       "      <td>0.000000</td>\n",
       "      <td>0.000000</td>\n",
       "    </tr>\n",
       "    <tr>\n",
       "      <th>25%</th>\n",
       "      <td>NaN</td>\n",
       "      <td>NaN</td>\n",
       "      <td>NaN</td>\n",
       "      <td>NaN</td>\n",
       "      <td>NaN</td>\n",
       "      <td>NaN</td>\n",
       "      <td>NaN</td>\n",
       "      <td>821.250000</td>\n",
       "      <td>272.500000</td>\n",
       "    </tr>\n",
       "    <tr>\n",
       "      <th>50%</th>\n",
       "      <td>NaN</td>\n",
       "      <td>NaN</td>\n",
       "      <td>NaN</td>\n",
       "      <td>NaN</td>\n",
       "      <td>NaN</td>\n",
       "      <td>NaN</td>\n",
       "      <td>NaN</td>\n",
       "      <td>1642.500000</td>\n",
       "      <td>520.000000</td>\n",
       "    </tr>\n",
       "    <tr>\n",
       "      <th>75%</th>\n",
       "      <td>NaN</td>\n",
       "      <td>NaN</td>\n",
       "      <td>NaN</td>\n",
       "      <td>NaN</td>\n",
       "      <td>NaN</td>\n",
       "      <td>NaN</td>\n",
       "      <td>NaN</td>\n",
       "      <td>2463.750000</td>\n",
       "      <td>767.500000</td>\n",
       "    </tr>\n",
       "    <tr>\n",
       "      <th>max</th>\n",
       "      <td>NaN</td>\n",
       "      <td>NaN</td>\n",
       "      <td>NaN</td>\n",
       "      <td>NaN</td>\n",
       "      <td>NaN</td>\n",
       "      <td>NaN</td>\n",
       "      <td>NaN</td>\n",
       "      <td>3285.000000</td>\n",
       "      <td>1024.000000</td>\n",
       "    </tr>\n",
       "  </tbody>\n",
       "</table>\n",
       "</div>"
      ],
      "text/plain": [
       "       Ticket_ID Student_ID                        Category  \\\n",
       "count       5788       5788                            5788   \n",
       "unique      1300       2778                               4   \n",
       "top     TCKT0090     S11234  Academic Support and Resources   \n",
       "freq          10         15                            1483   \n",
       "mean         NaN        NaN                             NaN   \n",
       "std          NaN        NaN                             NaN   \n",
       "min          NaN        NaN                             NaN   \n",
       "25%          NaN        NaN                             NaN   \n",
       "50%          NaN        NaN                             NaN   \n",
       "75%          NaN        NaN                             NaN   \n",
       "max          NaN        NaN                             NaN   \n",
       "\n",
       "                                           Complaint_Text Priority Status  \\\n",
       "count                                                5788     5787   5787   \n",
       "unique                                               5788        7     19   \n",
       "top     Dear Team, My university email rejects attachm...   Medium   Open   \n",
       "freq                                                    1     2892   3469   \n",
       "mean                                                  NaN      NaN    NaN   \n",
       "std                                                   NaN      NaN    NaN   \n",
       "min                                                   NaN      NaN    NaN   \n",
       "25%                                                   NaN      NaN    NaN   \n",
       "50%                                                   NaN      NaN    NaN   \n",
       "75%                                                   NaN      NaN    NaN   \n",
       "max                                                   NaN      NaN    NaN   \n",
       "\n",
       "       Date_Submitted  Unnamed: 0.1   Unnamed: 0  \n",
       "count            5771   3286.000000   991.000000  \n",
       "unique            820           NaN          NaN  \n",
       "top        2025-08-31           NaN          NaN  \n",
       "freq               72           NaN          NaN  \n",
       "mean              NaN   1642.500000   514.889001  \n",
       "std               NaN    948.730819   294.264098  \n",
       "min               NaN      0.000000     0.000000  \n",
       "25%               NaN    821.250000   272.500000  \n",
       "50%               NaN   1642.500000   520.000000  \n",
       "75%               NaN   2463.750000   767.500000  \n",
       "max               NaN   3285.000000  1024.000000  "
      ]
     },
     "execution_count": 4,
     "metadata": {},
     "output_type": "execute_result"
    }
   ],
   "source": [
    "complaints.describe(include=\"all\")"
   ]
  },
  {
   "cell_type": "code",
   "execution_count": 5,
   "id": "56ca56f8",
   "metadata": {
    "execution": {
     "iopub.execute_input": "2025-09-29T13:09:58.980127Z",
     "iopub.status.busy": "2025-09-29T13:09:58.979905Z",
     "iopub.status.idle": "2025-09-29T13:09:58.984207Z",
     "shell.execute_reply": "2025-09-29T13:09:58.983666Z"
    },
    "papermill": {
     "duration": 0.012139,
     "end_time": "2025-09-29T13:09:58.985217",
     "exception": false,
     "start_time": "2025-09-29T13:09:58.973078",
     "status": "completed"
    },
    "tags": []
   },
   "outputs": [],
   "source": [
    "complaints=complaints[[\"Complaint_Text\",\"Category\"]]"
   ]
  },
  {
   "cell_type": "code",
   "execution_count": 6,
   "id": "7357e2dd",
   "metadata": {
    "execution": {
     "iopub.execute_input": "2025-09-29T13:09:58.996661Z",
     "iopub.status.busy": "2025-09-29T13:09:58.996460Z",
     "iopub.status.idle": "2025-09-29T13:09:59.000999Z",
     "shell.execute_reply": "2025-09-29T13:09:59.000303Z"
    },
    "papermill": {
     "duration": 0.011519,
     "end_time": "2025-09-29T13:09:59.002098",
     "exception": false,
     "start_time": "2025-09-29T13:09:58.990579",
     "status": "completed"
    },
    "tags": []
   },
   "outputs": [
    {
     "data": {
      "text/plain": [
       "Index(['Complaint_Text', 'Category'], dtype='object')"
      ]
     },
     "execution_count": 6,
     "metadata": {},
     "output_type": "execute_result"
    }
   ],
   "source": [
    "complaints.columns"
   ]
  },
  {
   "cell_type": "code",
   "execution_count": 7,
   "id": "545d3db0",
   "metadata": {
    "execution": {
     "iopub.execute_input": "2025-09-29T13:09:59.014002Z",
     "iopub.status.busy": "2025-09-29T13:09:59.013824Z",
     "iopub.status.idle": "2025-09-29T13:10:03.020096Z",
     "shell.execute_reply": "2025-09-29T13:10:03.019486Z"
    },
    "papermill": {
     "duration": 4.01375,
     "end_time": "2025-09-29T13:10:03.021370",
     "exception": false,
     "start_time": "2025-09-29T13:09:59.007620",
     "status": "completed"
    },
    "tags": []
   },
   "outputs": [],
   "source": [
    "import torch\n",
    "device = torch.device(\"cuda\")"
   ]
  },
  {
   "cell_type": "code",
   "execution_count": 8,
   "id": "3206afff",
   "metadata": {
    "execution": {
     "iopub.execute_input": "2025-09-29T13:10:03.033542Z",
     "iopub.status.busy": "2025-09-29T13:10:03.033198Z",
     "iopub.status.idle": "2025-09-29T13:10:06.948960Z",
     "shell.execute_reply": "2025-09-29T13:10:06.948104Z"
    },
    "papermill": {
     "duration": 3.923884,
     "end_time": "2025-09-29T13:10:06.950969",
     "exception": false,
     "start_time": "2025-09-29T13:10:03.027085",
     "status": "completed"
    },
    "tags": []
   },
   "outputs": [
    {
     "name": "stdout",
     "output_type": "stream",
     "text": [
      "Requirement already satisfied: transformers in /usr/local/lib/python3.11/dist-packages (4.52.4)\r\n",
      "Requirement already satisfied: filelock in /usr/local/lib/python3.11/dist-packages (from transformers) (3.18.0)\r\n",
      "Requirement already satisfied: huggingface-hub<1.0,>=0.30.0 in /usr/local/lib/python3.11/dist-packages (from transformers) (0.33.1)\r\n",
      "Requirement already satisfied: numpy>=1.17 in /usr/local/lib/python3.11/dist-packages (from transformers) (1.26.4)\r\n",
      "Requirement already satisfied: packaging>=20.0 in /usr/local/lib/python3.11/dist-packages (from transformers) (25.0)\r\n",
      "Requirement already satisfied: pyyaml>=5.1 in /usr/local/lib/python3.11/dist-packages (from transformers) (6.0.2)\r\n",
      "Requirement already satisfied: regex!=2019.12.17 in /usr/local/lib/python3.11/dist-packages (from transformers) (2024.11.6)\r\n",
      "Requirement already satisfied: requests in /usr/local/lib/python3.11/dist-packages (from transformers) (2.32.4)\r\n",
      "Requirement already satisfied: tokenizers<0.22,>=0.21 in /usr/local/lib/python3.11/dist-packages (from transformers) (0.21.2)\r\n",
      "Requirement already satisfied: safetensors>=0.4.3 in /usr/local/lib/python3.11/dist-packages (from transformers) (0.5.3)\r\n",
      "Requirement already satisfied: tqdm>=4.27 in /usr/local/lib/python3.11/dist-packages (from transformers) (4.67.1)\r\n",
      "Requirement already satisfied: fsspec>=2023.5.0 in /usr/local/lib/python3.11/dist-packages (from huggingface-hub<1.0,>=0.30.0->transformers) (2025.5.1)\r\n",
      "Requirement already satisfied: typing-extensions>=3.7.4.3 in /usr/local/lib/python3.11/dist-packages (from huggingface-hub<1.0,>=0.30.0->transformers) (4.14.0)\r\n",
      "Requirement already satisfied: hf-xet<2.0.0,>=1.1.2 in /usr/local/lib/python3.11/dist-packages (from huggingface-hub<1.0,>=0.30.0->transformers) (1.1.5)\r\n",
      "Requirement already satisfied: mkl_fft in /usr/local/lib/python3.11/dist-packages (from numpy>=1.17->transformers) (1.3.8)\r\n",
      "Requirement already satisfied: mkl_random in /usr/local/lib/python3.11/dist-packages (from numpy>=1.17->transformers) (1.2.4)\r\n",
      "Requirement already satisfied: mkl_umath in /usr/local/lib/python3.11/dist-packages (from numpy>=1.17->transformers) (0.1.1)\r\n",
      "Requirement already satisfied: mkl in /usr/local/lib/python3.11/dist-packages (from numpy>=1.17->transformers) (2025.2.0)\r\n",
      "Requirement already satisfied: tbb4py in /usr/local/lib/python3.11/dist-packages (from numpy>=1.17->transformers) (2022.2.0)\r\n",
      "Requirement already satisfied: mkl-service in /usr/local/lib/python3.11/dist-packages (from numpy>=1.17->transformers) (2.4.1)\r\n",
      "Requirement already satisfied: charset_normalizer<4,>=2 in /usr/local/lib/python3.11/dist-packages (from requests->transformers) (3.4.2)\r\n",
      "Requirement already satisfied: idna<4,>=2.5 in /usr/local/lib/python3.11/dist-packages (from requests->transformers) (3.10)\r\n",
      "Requirement already satisfied: urllib3<3,>=1.21.1 in /usr/local/lib/python3.11/dist-packages (from requests->transformers) (2.5.0)\r\n",
      "Requirement already satisfied: certifi>=2017.4.17 in /usr/local/lib/python3.11/dist-packages (from requests->transformers) (2025.6.15)\r\n",
      "Requirement already satisfied: intel-openmp<2026,>=2024 in /usr/local/lib/python3.11/dist-packages (from mkl->numpy>=1.17->transformers) (2024.2.0)\r\n",
      "Requirement already satisfied: tbb==2022.* in /usr/local/lib/python3.11/dist-packages (from mkl->numpy>=1.17->transformers) (2022.2.0)\r\n",
      "Requirement already satisfied: tcmlib==1.* in /usr/local/lib/python3.11/dist-packages (from tbb==2022.*->mkl->numpy>=1.17->transformers) (1.4.0)\r\n",
      "Requirement already satisfied: intel-cmplr-lib-rt in /usr/local/lib/python3.11/dist-packages (from mkl_umath->numpy>=1.17->transformers) (2024.2.0)\r\n",
      "Requirement already satisfied: intel-cmplr-lib-ur==2024.2.0 in /usr/local/lib/python3.11/dist-packages (from intel-openmp<2026,>=2024->mkl->numpy>=1.17->transformers) (2024.2.0)\r\n"
     ]
    }
   ],
   "source": [
    "!pip install transformers"
   ]
  },
  {
   "cell_type": "code",
   "execution_count": 9,
   "id": "e1aea23a",
   "metadata": {
    "execution": {
     "iopub.execute_input": "2025-09-29T13:10:06.963757Z",
     "iopub.status.busy": "2025-09-29T13:10:06.963486Z",
     "iopub.status.idle": "2025-09-29T13:10:08.093013Z",
     "shell.execute_reply": "2025-09-29T13:10:08.092240Z"
    },
    "papermill": {
     "duration": 1.137477,
     "end_time": "2025-09-29T13:10:08.094437",
     "exception": false,
     "start_time": "2025-09-29T13:10:06.956960",
     "status": "completed"
    },
    "tags": []
   },
   "outputs": [],
   "source": [
    "from sklearn.preprocessing import LabelEncoder\n",
    "encoder = LabelEncoder()\n",
    "complaints[\"Category\"] = encoder.fit_transform(complaints[\"Category\"])\n",
    "sentences = complaints.Complaint_Text.values\n",
    "labels = complaints.Category.values"
   ]
  },
  {
   "cell_type": "code",
   "execution_count": 10,
   "id": "b7dd9f57",
   "metadata": {
    "execution": {
     "iopub.execute_input": "2025-09-29T13:10:08.107066Z",
     "iopub.status.busy": "2025-09-29T13:10:08.106680Z",
     "iopub.status.idle": "2025-09-29T13:10:08.112147Z",
     "shell.execute_reply": "2025-09-29T13:10:08.111466Z"
    },
    "papermill": {
     "duration": 0.012959,
     "end_time": "2025-09-29T13:10:08.113254",
     "exception": false,
     "start_time": "2025-09-29T13:10:08.100295",
     "status": "completed"
    },
    "tags": []
   },
   "outputs": [
    {
     "data": {
      "text/plain": [
       "array([0, 1, 2, 3])"
      ]
     },
     "execution_count": 10,
     "metadata": {},
     "output_type": "execute_result"
    }
   ],
   "source": [
    "np.unique(labels)\n"
   ]
  },
  {
   "cell_type": "code",
   "execution_count": 11,
   "id": "2dabf29f",
   "metadata": {
    "execution": {
     "iopub.execute_input": "2025-09-29T13:10:08.125222Z",
     "iopub.status.busy": "2025-09-29T13:10:08.125025Z",
     "iopub.status.idle": "2025-09-29T13:10:15.445043Z",
     "shell.execute_reply": "2025-09-29T13:10:15.444358Z"
    },
    "papermill": {
     "duration": 7.327449,
     "end_time": "2025-09-29T13:10:15.446407",
     "exception": false,
     "start_time": "2025-09-29T13:10:08.118958",
     "status": "completed"
    },
    "tags": []
   },
   "outputs": [
    {
     "data": {
      "application/vnd.jupyter.widget-view+json": {
       "model_id": "194c35884cf14f4bba3246ec9a595fa2",
       "version_major": 2,
       "version_minor": 0
      },
      "text/plain": [
       "tokenizer_config.json:   0%|          | 0.00/48.0 [00:00<?, ?B/s]"
      ]
     },
     "metadata": {},
     "output_type": "display_data"
    },
    {
     "data": {
      "application/vnd.jupyter.widget-view+json": {
       "model_id": "233e87074ddb41c9a0f65a01be066e89",
       "version_major": 2,
       "version_minor": 0
      },
      "text/plain": [
       "vocab.txt:   0%|          | 0.00/872k [00:00<?, ?B/s]"
      ]
     },
     "metadata": {},
     "output_type": "display_data"
    },
    {
     "data": {
      "application/vnd.jupyter.widget-view+json": {
       "model_id": "5f98011fbc1f4a6c909baa52db09b9d5",
       "version_major": 2,
       "version_minor": 0
      },
      "text/plain": [
       "tokenizer.json:   0%|          | 0.00/1.72M [00:00<?, ?B/s]"
      ]
     },
     "metadata": {},
     "output_type": "display_data"
    },
    {
     "data": {
      "application/vnd.jupyter.widget-view+json": {
       "model_id": "3e3c4f6684194640867108cda172e157",
       "version_major": 2,
       "version_minor": 0
      },
      "text/plain": [
       "config.json:   0%|          | 0.00/625 [00:00<?, ?B/s]"
      ]
     },
     "metadata": {},
     "output_type": "display_data"
    }
   ],
   "source": [
    "from transformers import BertTokenizer\n",
    "\n",
    "tokenizer = BertTokenizer.from_pretrained(\"bert-base-multilingual-uncased\")\n"
   ]
  },
  {
   "cell_type": "code",
   "execution_count": 12,
   "id": "bd7345ea",
   "metadata": {
    "execution": {
     "iopub.execute_input": "2025-09-29T13:10:15.460292Z",
     "iopub.status.busy": "2025-09-29T13:10:15.459879Z",
     "iopub.status.idle": "2025-09-29T13:10:17.127789Z",
     "shell.execute_reply": "2025-09-29T13:10:17.126991Z"
    },
    "papermill": {
     "duration": 1.675902,
     "end_time": "2025-09-29T13:10:17.129049",
     "exception": false,
     "start_time": "2025-09-29T13:10:15.453147",
     "status": "completed"
    },
    "tags": []
   },
   "outputs": [
    {
     "name": "stdout",
     "output_type": "stream",
     "text": [
      "Max sentence length:  62\n"
     ]
    }
   ],
   "source": [
    "max_len = 0\n",
    "\n",
    "# For every sentence...\n",
    "for sent in sentences:\n",
    "\n",
    "    # Tokenize the text and add `[CLS]` and `[SEP]` tokens.\n",
    "    input_ids = tokenizer.encode(sent, add_special_tokens=True)\n",
    "\n",
    "    # Update the maximum sentence length.\n",
    "    max_len = max(max_len, len(input_ids))\n",
    "\n",
    "print('Max sentence length: ', max_len)\n"
   ]
  },
  {
   "cell_type": "code",
   "execution_count": 13,
   "id": "38462c39",
   "metadata": {
    "execution": {
     "iopub.execute_input": "2025-09-29T13:10:17.142334Z",
     "iopub.status.busy": "2025-09-29T13:10:17.142127Z",
     "iopub.status.idle": "2025-09-29T13:10:19.437270Z",
     "shell.execute_reply": "2025-09-29T13:10:19.436307Z"
    },
    "papermill": {
     "duration": 2.303073,
     "end_time": "2025-09-29T13:10:19.438425",
     "exception": false,
     "start_time": "2025-09-29T13:10:17.135352",
     "status": "completed"
    },
    "tags": []
   },
   "outputs": [
    {
     "name": "stdout",
     "output_type": "stream",
     "text": [
      "Original:  المصاريف دي عاملاني مشاكل كبيرة، والردود مش موجودة أبداً.\n",
      "Token IDs: tensor([  101, 24177, 10720, 36139, 19455, 35476, 59673, 23860,   476, 80958,\n",
      "        34003,   446,   479, 13259, 91296, 10727,   476, 11691, 29606, 10400,\n",
      "        19767, 14363,   119,   102,     0,     0,     0,     0,     0,     0,\n",
      "            0,     0,     0,     0,     0,     0,     0,     0,     0,     0,\n",
      "            0,     0,     0,     0,     0,     0,     0,     0,     0,     0,\n",
      "            0,     0,     0,     0,     0,     0,     0,     0,     0,     0,\n",
      "            0,     0,     0,     0])\n"
     ]
    }
   ],
   "source": [
    "input_ids = []\n",
    "attention_masks = []\n",
    "\n",
    "# For every sentence...\n",
    "for sent in sentences:\n",
    "    encoded_dict = tokenizer.encode_plus(\n",
    "                        sent,                      \n",
    "                        add_special_tokens = True,  # Add '[CLS]' and '[SEP]'\n",
    "                        max_length = 64,            # Pad & truncate all sentences\n",
    "                        padding = 'max_length',     # <-- بدل pad_to_max_length\n",
    "                        truncation = True,          # لازم تحطها علشان يقطع لو أطول\n",
    "                        return_attention_mask = True,\n",
    "                        return_tensors = 'pt',     \n",
    "                   )\n",
    "    \n",
    "    input_ids.append(encoded_dict['input_ids'])\n",
    "    attention_masks.append(encoded_dict['attention_mask'])\n",
    "\n",
    "# Convert lists to tensors\n",
    "input_ids = torch.cat(input_ids, dim=0)\n",
    "attention_masks = torch.cat(attention_masks, dim=0)\n",
    "labels = torch.tensor(labels)\n",
    "\n",
    "print('Original: ', sentences[0])\n",
    "print('Token IDs:', input_ids[0])\n"
   ]
  },
  {
   "cell_type": "code",
   "execution_count": 14,
   "id": "b9d6fa3d",
   "metadata": {
    "execution": {
     "iopub.execute_input": "2025-09-29T13:10:19.451852Z",
     "iopub.status.busy": "2025-09-29T13:10:19.451613Z",
     "iopub.status.idle": "2025-09-29T13:10:19.461431Z",
     "shell.execute_reply": "2025-09-29T13:10:19.460615Z"
    },
    "papermill": {
     "duration": 0.017603,
     "end_time": "2025-09-29T13:10:19.462469",
     "exception": false,
     "start_time": "2025-09-29T13:10:19.444866",
     "status": "completed"
    },
    "tags": []
   },
   "outputs": [
    {
     "name": "stdout",
     "output_type": "stream",
     "text": [
      "4,051 training samples\n",
      "1,157 validation samples\n",
      "580 test samples\n"
     ]
    }
   ],
   "source": [
    "from torch.utils.data import TensorDataset, random_split\n",
    "\n",
    "# Combine the training inputs into a TensorDataset.\n",
    "dataset = TensorDataset(input_ids, attention_masks, labels)\n",
    "\n",
    "# Calculate sizes\n",
    "total_size = len(dataset)\n",
    "train_size = int(0.7 * total_size)\n",
    "val_size = int(0.2 * total_size)\n",
    "test_size = total_size - train_size - val_size  # ensures all samples are used\n",
    "\n",
    "# Split dataset\n",
    "train_dataset, val_dataset, test_dataset = random_split(dataset, [train_size, val_size, test_size])\n",
    "\n",
    "print(f\"{train_size:,} training samples\")\n",
    "print(f\"{val_size:,} validation samples\")\n",
    "print(f\"{test_size:,} test samples\")\n"
   ]
  },
  {
   "cell_type": "code",
   "execution_count": 15,
   "id": "75a28275",
   "metadata": {
    "execution": {
     "iopub.execute_input": "2025-09-29T13:10:19.475447Z",
     "iopub.status.busy": "2025-09-29T13:10:19.475236Z",
     "iopub.status.idle": "2025-09-29T13:10:19.479544Z",
     "shell.execute_reply": "2025-09-29T13:10:19.478866Z"
    },
    "papermill": {
     "duration": 0.012274,
     "end_time": "2025-09-29T13:10:19.480781",
     "exception": false,
     "start_time": "2025-09-29T13:10:19.468507",
     "status": "completed"
    },
    "tags": []
   },
   "outputs": [],
   "source": [
    "from torch.utils.data import DataLoader, RandomSampler, SequentialSampler\n",
    "\n",
    "# The DataLoader needs to know our batch size for training, so we specify it \n",
    "# here. For fine-tuning BERT on a specific task, the authors recommend a batch \n",
    "# size of 16 or 32.\n",
    "batch_size = 32\n",
    "\n",
    "# Create the DataLoaders for our training and validation sets.\n",
    "# We'll take training samples in random order. \n",
    "train_dataloader = DataLoader(\n",
    "            train_dataset,  # The training samples.\n",
    "            sampler = RandomSampler(train_dataset), # Select batches randomly\n",
    "            batch_size = batch_size # Trains with this batch size.\n",
    "        )\n",
    "\n",
    "# For validation the order doesn't matter, so we'll just read them sequentially.\n",
    "validation_dataloader = DataLoader(\n",
    "            val_dataset, # The validation samples.\n",
    "            sampler = SequentialSampler(val_dataset), # Pull out batches sequentially.\n",
    "            batch_size = batch_size # Evaluate with this batch size.\n",
    "        )"
   ]
  },
  {
   "cell_type": "code",
   "execution_count": 16,
   "id": "0e06c67f",
   "metadata": {
    "execution": {
     "iopub.execute_input": "2025-09-29T13:10:19.494214Z",
     "iopub.status.busy": "2025-09-29T13:10:19.494028Z",
     "iopub.status.idle": "2025-09-29T13:10:42.580482Z",
     "shell.execute_reply": "2025-09-29T13:10:42.579859Z"
    },
    "papermill": {
     "duration": 23.094356,
     "end_time": "2025-09-29T13:10:42.581775",
     "exception": false,
     "start_time": "2025-09-29T13:10:19.487419",
     "status": "completed"
    },
    "tags": []
   },
   "outputs": [
    {
     "name": "stderr",
     "output_type": "stream",
     "text": [
      "2025-09-29 13:10:26.714507: E external/local_xla/xla/stream_executor/cuda/cuda_fft.cc:477] Unable to register cuFFT factory: Attempting to register factory for plugin cuFFT when one has already been registered\n",
      "WARNING: All log messages before absl::InitializeLog() is called are written to STDERR\n",
      "E0000 00:00:1759151426.901268      19 cuda_dnn.cc:8310] Unable to register cuDNN factory: Attempting to register factory for plugin cuDNN when one has already been registered\n",
      "E0000 00:00:1759151426.957981      19 cuda_blas.cc:1418] Unable to register cuBLAS factory: Attempting to register factory for plugin cuBLAS when one has already been registered\n"
     ]
    },
    {
     "data": {
      "application/vnd.jupyter.widget-view+json": {
       "model_id": "106e5b218fab40489d5e58539726bf76",
       "version_major": 2,
       "version_minor": 0
      },
      "text/plain": [
       "model.safetensors:   0%|          | 0.00/672M [00:00<?, ?B/s]"
      ]
     },
     "metadata": {},
     "output_type": "display_data"
    },
    {
     "name": "stderr",
     "output_type": "stream",
     "text": [
      "Some weights of BertForSequenceClassification were not initialized from the model checkpoint at bert-base-multilingual-uncased and are newly initialized: ['classifier.bias', 'classifier.weight']\n",
      "You should probably TRAIN this model on a down-stream task to be able to use it for predictions and inference.\n"
     ]
    },
    {
     "data": {
      "text/plain": [
       "BertForSequenceClassification(\n",
       "  (bert): BertModel(\n",
       "    (embeddings): BertEmbeddings(\n",
       "      (word_embeddings): Embedding(105879, 768, padding_idx=0)\n",
       "      (position_embeddings): Embedding(512, 768)\n",
       "      (token_type_embeddings): Embedding(2, 768)\n",
       "      (LayerNorm): LayerNorm((768,), eps=1e-12, elementwise_affine=True)\n",
       "      (dropout): Dropout(p=0.1, inplace=False)\n",
       "    )\n",
       "    (encoder): BertEncoder(\n",
       "      (layer): ModuleList(\n",
       "        (0-11): 12 x BertLayer(\n",
       "          (attention): BertAttention(\n",
       "            (self): BertSdpaSelfAttention(\n",
       "              (query): Linear(in_features=768, out_features=768, bias=True)\n",
       "              (key): Linear(in_features=768, out_features=768, bias=True)\n",
       "              (value): Linear(in_features=768, out_features=768, bias=True)\n",
       "              (dropout): Dropout(p=0.1, inplace=False)\n",
       "            )\n",
       "            (output): BertSelfOutput(\n",
       "              (dense): Linear(in_features=768, out_features=768, bias=True)\n",
       "              (LayerNorm): LayerNorm((768,), eps=1e-12, elementwise_affine=True)\n",
       "              (dropout): Dropout(p=0.1, inplace=False)\n",
       "            )\n",
       "          )\n",
       "          (intermediate): BertIntermediate(\n",
       "            (dense): Linear(in_features=768, out_features=3072, bias=True)\n",
       "            (intermediate_act_fn): GELUActivation()\n",
       "          )\n",
       "          (output): BertOutput(\n",
       "            (dense): Linear(in_features=3072, out_features=768, bias=True)\n",
       "            (LayerNorm): LayerNorm((768,), eps=1e-12, elementwise_affine=True)\n",
       "            (dropout): Dropout(p=0.1, inplace=False)\n",
       "          )\n",
       "        )\n",
       "      )\n",
       "    )\n",
       "    (pooler): BertPooler(\n",
       "      (dense): Linear(in_features=768, out_features=768, bias=True)\n",
       "      (activation): Tanh()\n",
       "    )\n",
       "  )\n",
       "  (dropout): Dropout(p=0.1, inplace=False)\n",
       "  (classifier): Linear(in_features=768, out_features=4, bias=True)\n",
       ")"
      ]
     },
     "execution_count": 16,
     "metadata": {},
     "output_type": "execute_result"
    }
   ],
   "source": [
    "from transformers import BertForSequenceClassification\n",
    "from torch.optim import AdamW\n",
    "import torch\n",
    "\n",
    "# Load multilingual uncased BERT for classification\n",
    "model = BertForSequenceClassification.from_pretrained(\n",
    "    \"bert-base-multilingual-uncased\",\n",
    "    num_labels=4,              # adjust to your dataset (4 classes here)\n",
    "    output_attentions=False,\n",
    "    output_hidden_states=False,\n",
    ")\n",
    "\n",
    "# Move model to GPU (if available)\n",
    "device = \"cuda\" if torch.cuda.is_available() else \"cpu\"\n",
    "model.to(device)\n"
   ]
  },
  {
   "cell_type": "code",
   "execution_count": 17,
   "id": "d842a8d5",
   "metadata": {
    "execution": {
     "iopub.execute_input": "2025-09-29T13:10:42.596176Z",
     "iopub.status.busy": "2025-09-29T13:10:42.595659Z",
     "iopub.status.idle": "2025-09-29T13:10:42.600448Z",
     "shell.execute_reply": "2025-09-29T13:10:42.599762Z"
    },
    "papermill": {
     "duration": 0.012977,
     "end_time": "2025-09-29T13:10:42.601603",
     "exception": false,
     "start_time": "2025-09-29T13:10:42.588626",
     "status": "completed"
    },
    "tags": []
   },
   "outputs": [],
   "source": [
    "optimizer = AdamW(model.parameters(),\n",
    "                  lr = 2e-5, # args.learning_rate - default is 5e-5, our notebook had 2e-5\n",
    "                  eps = 1e-8 # args.adam_epsilon  - default is 1e-8.\n",
    "                )\n"
   ]
  },
  {
   "cell_type": "code",
   "execution_count": 18,
   "id": "b772824d",
   "metadata": {
    "execution": {
     "iopub.execute_input": "2025-09-29T13:10:42.615432Z",
     "iopub.status.busy": "2025-09-29T13:10:42.615236Z",
     "iopub.status.idle": "2025-09-29T13:10:42.643091Z",
     "shell.execute_reply": "2025-09-29T13:10:42.642514Z"
    },
    "papermill": {
     "duration": 0.036097,
     "end_time": "2025-09-29T13:10:42.644194",
     "exception": false,
     "start_time": "2025-09-29T13:10:42.608097",
     "status": "completed"
    },
    "tags": []
   },
   "outputs": [],
   "source": [
    "from transformers import get_linear_schedule_with_warmup\n",
    "\n",
    "# Number of training epochs. The BERT authors recommend between 2 and 4. \n",
    "# We chose to run for 4, but we'll see later that this may be over-fitting the\n",
    "# training data.\n",
    "epochs = 4\n",
    "\n",
    "# Total number of training steps is [number of batches] x [number of epochs]. \n",
    "# (Note that this is not the same as the number of training samples).\n",
    "total_steps = len(train_dataloader) * epochs\n",
    "\n",
    "# Create the learning rate scheduler.\n",
    "scheduler = get_linear_schedule_with_warmup(optimizer, \n",
    "                                            num_warmup_steps = 0, # Default value in run_glue.py\n",
    "                                            num_training_steps = total_steps)\n"
   ]
  },
  {
   "cell_type": "code",
   "execution_count": 19,
   "id": "895b2896",
   "metadata": {
    "execution": {
     "iopub.execute_input": "2025-09-29T13:10:42.657943Z",
     "iopub.status.busy": "2025-09-29T13:10:42.657678Z",
     "iopub.status.idle": "2025-09-29T13:10:46.974989Z",
     "shell.execute_reply": "2025-09-29T13:10:46.973983Z"
    },
    "papermill": {
     "duration": 4.325415,
     "end_time": "2025-09-29T13:10:46.976230",
     "exception": false,
     "start_time": "2025-09-29T13:10:42.650815",
     "status": "completed"
    },
    "tags": []
   },
   "outputs": [
    {
     "name": "stdout",
     "output_type": "stream",
     "text": [
      "Collecting evaluate\r\n",
      "  Downloading evaluate-0.4.6-py3-none-any.whl.metadata (9.5 kB)\r\n",
      "Requirement already satisfied: datasets>=2.0.0 in /usr/local/lib/python3.11/dist-packages (from evaluate) (3.6.0)\r\n",
      "Requirement already satisfied: numpy>=1.17 in /usr/local/lib/python3.11/dist-packages (from evaluate) (1.26.4)\r\n",
      "Requirement already satisfied: dill in /usr/local/lib/python3.11/dist-packages (from evaluate) (0.3.8)\r\n",
      "Requirement already satisfied: pandas in /usr/local/lib/python3.11/dist-packages (from evaluate) (2.2.3)\r\n",
      "Requirement already satisfied: requests>=2.19.0 in /usr/local/lib/python3.11/dist-packages (from evaluate) (2.32.4)\r\n",
      "Requirement already satisfied: tqdm>=4.62.1 in /usr/local/lib/python3.11/dist-packages (from evaluate) (4.67.1)\r\n",
      "Requirement already satisfied: xxhash in /usr/local/lib/python3.11/dist-packages (from evaluate) (3.5.0)\r\n",
      "Requirement already satisfied: multiprocess in /usr/local/lib/python3.11/dist-packages (from evaluate) (0.70.16)\r\n",
      "Requirement already satisfied: fsspec>=2021.05.0 in /usr/local/lib/python3.11/dist-packages (from fsspec[http]>=2021.05.0->evaluate) (2025.5.1)\r\n",
      "Requirement already satisfied: huggingface-hub>=0.7.0 in /usr/local/lib/python3.11/dist-packages (from evaluate) (0.33.1)\r\n",
      "Requirement already satisfied: packaging in /usr/local/lib/python3.11/dist-packages (from evaluate) (25.0)\r\n",
      "Requirement already satisfied: filelock in /usr/local/lib/python3.11/dist-packages (from datasets>=2.0.0->evaluate) (3.18.0)\r\n",
      "Requirement already satisfied: pyarrow>=15.0.0 in /usr/local/lib/python3.11/dist-packages (from datasets>=2.0.0->evaluate) (19.0.1)\r\n",
      "Collecting fsspec>=2021.05.0 (from fsspec[http]>=2021.05.0->evaluate)\r\n",
      "  Downloading fsspec-2025.3.0-py3-none-any.whl.metadata (11 kB)\r\n",
      "Requirement already satisfied: pyyaml>=5.1 in /usr/local/lib/python3.11/dist-packages (from datasets>=2.0.0->evaluate) (6.0.2)\r\n",
      "Requirement already satisfied: aiohttp!=4.0.0a0,!=4.0.0a1 in /usr/local/lib/python3.11/dist-packages (from fsspec[http]>=2021.05.0->evaluate) (3.12.13)\r\n",
      "Requirement already satisfied: typing-extensions>=3.7.4.3 in /usr/local/lib/python3.11/dist-packages (from huggingface-hub>=0.7.0->evaluate) (4.14.0)\r\n",
      "Requirement already satisfied: hf-xet<2.0.0,>=1.1.2 in /usr/local/lib/python3.11/dist-packages (from huggingface-hub>=0.7.0->evaluate) (1.1.5)\r\n",
      "Requirement already satisfied: mkl_fft in /usr/local/lib/python3.11/dist-packages (from numpy>=1.17->evaluate) (1.3.8)\r\n",
      "Requirement already satisfied: mkl_random in /usr/local/lib/python3.11/dist-packages (from numpy>=1.17->evaluate) (1.2.4)\r\n",
      "Requirement already satisfied: mkl_umath in /usr/local/lib/python3.11/dist-packages (from numpy>=1.17->evaluate) (0.1.1)\r\n",
      "Requirement already satisfied: mkl in /usr/local/lib/python3.11/dist-packages (from numpy>=1.17->evaluate) (2025.2.0)\r\n",
      "Requirement already satisfied: tbb4py in /usr/local/lib/python3.11/dist-packages (from numpy>=1.17->evaluate) (2022.2.0)\r\n",
      "Requirement already satisfied: mkl-service in /usr/local/lib/python3.11/dist-packages (from numpy>=1.17->evaluate) (2.4.1)\r\n",
      "Requirement already satisfied: charset_normalizer<4,>=2 in /usr/local/lib/python3.11/dist-packages (from requests>=2.19.0->evaluate) (3.4.2)\r\n",
      "Requirement already satisfied: idna<4,>=2.5 in /usr/local/lib/python3.11/dist-packages (from requests>=2.19.0->evaluate) (3.10)\r\n",
      "Requirement already satisfied: urllib3<3,>=1.21.1 in /usr/local/lib/python3.11/dist-packages (from requests>=2.19.0->evaluate) (2.5.0)\r\n",
      "Requirement already satisfied: certifi>=2017.4.17 in /usr/local/lib/python3.11/dist-packages (from requests>=2.19.0->evaluate) (2025.6.15)\r\n",
      "Requirement already satisfied: python-dateutil>=2.8.2 in /usr/local/lib/python3.11/dist-packages (from pandas->evaluate) (2.9.0.post0)\r\n",
      "Requirement already satisfied: pytz>=2020.1 in /usr/local/lib/python3.11/dist-packages (from pandas->evaluate) (2025.2)\r\n",
      "Requirement already satisfied: tzdata>=2022.7 in /usr/local/lib/python3.11/dist-packages (from pandas->evaluate) (2025.2)\r\n",
      "Requirement already satisfied: aiohappyeyeballs>=2.5.0 in /usr/local/lib/python3.11/dist-packages (from aiohttp!=4.0.0a0,!=4.0.0a1->fsspec[http]>=2021.05.0->evaluate) (2.6.1)\r\n",
      "Requirement already satisfied: aiosignal>=1.1.2 in /usr/local/lib/python3.11/dist-packages (from aiohttp!=4.0.0a0,!=4.0.0a1->fsspec[http]>=2021.05.0->evaluate) (1.3.2)\r\n",
      "Requirement already satisfied: attrs>=17.3.0 in /usr/local/lib/python3.11/dist-packages (from aiohttp!=4.0.0a0,!=4.0.0a1->fsspec[http]>=2021.05.0->evaluate) (25.3.0)\r\n",
      "Requirement already satisfied: frozenlist>=1.1.1 in /usr/local/lib/python3.11/dist-packages (from aiohttp!=4.0.0a0,!=4.0.0a1->fsspec[http]>=2021.05.0->evaluate) (1.7.0)\r\n",
      "Requirement already satisfied: multidict<7.0,>=4.5 in /usr/local/lib/python3.11/dist-packages (from aiohttp!=4.0.0a0,!=4.0.0a1->fsspec[http]>=2021.05.0->evaluate) (6.6.3)\r\n",
      "Requirement already satisfied: propcache>=0.2.0 in /usr/local/lib/python3.11/dist-packages (from aiohttp!=4.0.0a0,!=4.0.0a1->fsspec[http]>=2021.05.0->evaluate) (0.3.2)\r\n",
      "Requirement already satisfied: yarl<2.0,>=1.17.0 in /usr/local/lib/python3.11/dist-packages (from aiohttp!=4.0.0a0,!=4.0.0a1->fsspec[http]>=2021.05.0->evaluate) (1.20.1)\r\n",
      "Requirement already satisfied: six>=1.5 in /usr/local/lib/python3.11/dist-packages (from python-dateutil>=2.8.2->pandas->evaluate) (1.17.0)\r\n",
      "Requirement already satisfied: intel-openmp<2026,>=2024 in /usr/local/lib/python3.11/dist-packages (from mkl->numpy>=1.17->evaluate) (2024.2.0)\r\n",
      "Requirement already satisfied: tbb==2022.* in /usr/local/lib/python3.11/dist-packages (from mkl->numpy>=1.17->evaluate) (2022.2.0)\r\n",
      "Requirement already satisfied: tcmlib==1.* in /usr/local/lib/python3.11/dist-packages (from tbb==2022.*->mkl->numpy>=1.17->evaluate) (1.4.0)\r\n",
      "Requirement already satisfied: intel-cmplr-lib-rt in /usr/local/lib/python3.11/dist-packages (from mkl_umath->numpy>=1.17->evaluate) (2024.2.0)\r\n",
      "Requirement already satisfied: intel-cmplr-lib-ur==2024.2.0 in /usr/local/lib/python3.11/dist-packages (from intel-openmp<2026,>=2024->mkl->numpy>=1.17->evaluate) (2024.2.0)\r\n",
      "Downloading evaluate-0.4.6-py3-none-any.whl (84 kB)\r\n",
      "\u001b[2K   \u001b[90m━━━━━━━━━━━━━━━━━━━━━━━━━━━━━━━━━━━━━━━━\u001b[0m \u001b[32m84.1/84.1 kB\u001b[0m \u001b[31m1.7 MB/s\u001b[0m eta \u001b[36m0:00:00\u001b[0m\r\n",
      "\u001b[?25hDownloading fsspec-2025.3.0-py3-none-any.whl (193 kB)\r\n",
      "\u001b[2K   \u001b[90m━━━━━━━━━━━━━━━━━━━━━━━━━━━━━━━━━━━━━━━━\u001b[0m \u001b[32m193.6/193.6 kB\u001b[0m \u001b[31m4.5 MB/s\u001b[0m eta \u001b[36m0:00:00\u001b[0m\r\n",
      "\u001b[?25hInstalling collected packages: fsspec, evaluate\r\n",
      "  Attempting uninstall: fsspec\r\n",
      "    Found existing installation: fsspec 2025.5.1\r\n",
      "    Uninstalling fsspec-2025.5.1:\r\n",
      "      Successfully uninstalled fsspec-2025.5.1\r\n",
      "\u001b[31mERROR: pip's dependency resolver does not currently take into account all the packages that are installed. This behaviour is the source of the following dependency conflicts.\r\n",
      "bigframes 2.8.0 requires google-cloud-bigquery-storage<3.0.0,>=2.30.0, which is not installed.\r\n",
      "cesium 0.12.4 requires numpy<3.0,>=2.0, but you have numpy 1.26.4 which is incompatible.\r\n",
      "torch 2.6.0+cu124 requires nvidia-cublas-cu12==12.4.5.8; platform_system == \"Linux\" and platform_machine == \"x86_64\", but you have nvidia-cublas-cu12 12.5.3.2 which is incompatible.\r\n",
      "torch 2.6.0+cu124 requires nvidia-cuda-cupti-cu12==12.4.127; platform_system == \"Linux\" and platform_machine == \"x86_64\", but you have nvidia-cuda-cupti-cu12 12.5.82 which is incompatible.\r\n",
      "torch 2.6.0+cu124 requires nvidia-cuda-nvrtc-cu12==12.4.127; platform_system == \"Linux\" and platform_machine == \"x86_64\", but you have nvidia-cuda-nvrtc-cu12 12.5.82 which is incompatible.\r\n",
      "torch 2.6.0+cu124 requires nvidia-cuda-runtime-cu12==12.4.127; platform_system == \"Linux\" and platform_machine == \"x86_64\", but you have nvidia-cuda-runtime-cu12 12.5.82 which is incompatible.\r\n",
      "torch 2.6.0+cu124 requires nvidia-cudnn-cu12==9.1.0.70; platform_system == \"Linux\" and platform_machine == \"x86_64\", but you have nvidia-cudnn-cu12 9.3.0.75 which is incompatible.\r\n",
      "torch 2.6.0+cu124 requires nvidia-cufft-cu12==11.2.1.3; platform_system == \"Linux\" and platform_machine == \"x86_64\", but you have nvidia-cufft-cu12 11.2.3.61 which is incompatible.\r\n",
      "torch 2.6.0+cu124 requires nvidia-curand-cu12==10.3.5.147; platform_system == \"Linux\" and platform_machine == \"x86_64\", but you have nvidia-curand-cu12 10.3.6.82 which is incompatible.\r\n",
      "torch 2.6.0+cu124 requires nvidia-cusolver-cu12==11.6.1.9; platform_system == \"Linux\" and platform_machine == \"x86_64\", but you have nvidia-cusolver-cu12 11.6.3.83 which is incompatible.\r\n",
      "torch 2.6.0+cu124 requires nvidia-cusparse-cu12==12.3.1.170; platform_system == \"Linux\" and platform_machine == \"x86_64\", but you have nvidia-cusparse-cu12 12.5.1.3 which is incompatible.\r\n",
      "torch 2.6.0+cu124 requires nvidia-nvjitlink-cu12==12.4.127; platform_system == \"Linux\" and platform_machine == \"x86_64\", but you have nvidia-nvjitlink-cu12 12.5.82 which is incompatible.\r\n",
      "gcsfs 2025.3.2 requires fsspec==2025.3.2, but you have fsspec 2025.3.0 which is incompatible.\r\n",
      "bigframes 2.8.0 requires google-cloud-bigquery[bqstorage,pandas]>=3.31.0, but you have google-cloud-bigquery 3.25.0 which is incompatible.\r\n",
      "bigframes 2.8.0 requires rich<14,>=12.4.4, but you have rich 14.0.0 which is incompatible.\u001b[0m\u001b[31m\r\n",
      "\u001b[0mSuccessfully installed evaluate-0.4.6 fsspec-2025.3.0\r\n",
      "Note: you may need to restart the kernel to use updated packages.\n"
     ]
    }
   ],
   "source": [
    "pip install evaluate"
   ]
  },
  {
   "cell_type": "code",
   "execution_count": 20,
   "id": "2236fd97",
   "metadata": {
    "execution": {
     "iopub.execute_input": "2025-09-29T13:10:46.992297Z",
     "iopub.status.busy": "2025-09-29T13:10:46.991676Z",
     "iopub.status.idle": "2025-09-29T13:10:46.996168Z",
     "shell.execute_reply": "2025-09-29T13:10:46.995606Z"
    },
    "papermill": {
     "duration": 0.013177,
     "end_time": "2025-09-29T13:10:46.997136",
     "exception": false,
     "start_time": "2025-09-29T13:10:46.983959",
     "status": "completed"
    },
    "tags": []
   },
   "outputs": [],
   "source": [
    "import numpy as np\n",
    "\n",
    "# Function to calculate the accuracy of our predictions vs labels\n",
    "def flat_accuracy(preds, labels):\n",
    "    pred_flat = np.argmax(preds, axis=1).flatten()\n",
    "    labels_flat = labels.flatten()\n",
    "    return np.sum(pred_flat == labels_flat) / len(labels_flat)"
   ]
  },
  {
   "cell_type": "code",
   "execution_count": 21,
   "id": "cc3e0ec3",
   "metadata": {
    "execution": {
     "iopub.execute_input": "2025-09-29T13:10:47.012315Z",
     "iopub.status.busy": "2025-09-29T13:10:47.011788Z",
     "iopub.status.idle": "2025-09-29T13:10:47.015622Z",
     "shell.execute_reply": "2025-09-29T13:10:47.015044Z"
    },
    "papermill": {
     "duration": 0.012483,
     "end_time": "2025-09-29T13:10:47.016692",
     "exception": false,
     "start_time": "2025-09-29T13:10:47.004209",
     "status": "completed"
    },
    "tags": []
   },
   "outputs": [],
   "source": [
    "import time\n",
    "import datetime\n",
    "\n",
    "def format_time(elapsed):\n",
    "    '''\n",
    "    Takes a time in seconds and returns a string hh:mm:ss\n",
    "    '''\n",
    "    # Round to the nearest second.\n",
    "    elapsed_rounded = int(round((elapsed)))\n",
    "    \n",
    "    # Format as hh:mm:ss\n",
    "    return str(datetime.timedelta(seconds=elapsed_rounded))\n"
   ]
  },
  {
   "cell_type": "code",
   "execution_count": 22,
   "id": "46c5db64",
   "metadata": {
    "execution": {
     "iopub.execute_input": "2025-09-29T13:10:47.031964Z",
     "iopub.status.busy": "2025-09-29T13:10:47.031440Z",
     "iopub.status.idle": "2025-09-29T13:10:47.036475Z",
     "shell.execute_reply": "2025-09-29T13:10:47.035826Z"
    },
    "papermill": {
     "duration": 0.013891,
     "end_time": "2025-09-29T13:10:47.037587",
     "exception": false,
     "start_time": "2025-09-29T13:10:47.023696",
     "status": "completed"
    },
    "tags": []
   },
   "outputs": [
    {
     "data": {
      "text/plain": [
       "{0: 'Academic Support and Resources',\n",
       " 1: 'Financial Support',\n",
       " 2: 'IT',\n",
       " 3: 'Student Affairs'}"
      ]
     },
     "execution_count": 22,
     "metadata": {},
     "output_type": "execute_result"
    }
   ],
   "source": [
    "id2label = dict(enumerate(encoder.classes_))\n",
    "id2label"
   ]
  },
  {
   "cell_type": "code",
   "execution_count": 23,
   "id": "841b1fc5",
   "metadata": {
    "execution": {
     "iopub.execute_input": "2025-09-29T13:10:47.102570Z",
     "iopub.status.busy": "2025-09-29T13:10:47.101984Z",
     "iopub.status.idle": "2025-09-29T13:10:47.108000Z",
     "shell.execute_reply": "2025-09-29T13:10:47.107282Z"
    },
    "papermill": {
     "duration": 0.015303,
     "end_time": "2025-09-29T13:10:47.109171",
     "exception": false,
     "start_time": "2025-09-29T13:10:47.093868",
     "status": "completed"
    },
    "tags": []
   },
   "outputs": [],
   "source": [
    "def f1_score_from_scratch(y_true, y_pred):\n",
    "    \"\"\"\n",
    "    Compute F1 score (macro average) from scratch.\n",
    "    \"\"\"\n",
    "    classes = np.unique(y_true)\n",
    "    f1_scores = []\n",
    "    for cls in classes:\n",
    "        tp = np.sum((y_pred == cls) & (y_true == cls))\n",
    "        fp = np.sum((y_pred == cls) & (y_true != cls))\n",
    "        fn = np.sum((y_pred != cls) & (y_true == cls))\n",
    "\n",
    "        precision = tp / (tp + fp) if (tp + fp) > 0 else 0\n",
    "        recall = tp / (tp + fn) if (tp + fn) > 0 else 0\n",
    "        f1 = 2 * precision * recall / (precision + recall) if (precision + recall) > 0 else 0\n",
    "        f1_scores.append(f1)\n",
    "\n",
    "    return np.mean(f1_scores)  # macro average\n"
   ]
  },
  {
   "cell_type": "code",
   "execution_count": 24,
   "id": "426f52c7",
   "metadata": {
    "execution": {
     "iopub.execute_input": "2025-09-29T13:10:47.125016Z",
     "iopub.status.busy": "2025-09-29T13:10:47.124808Z",
     "iopub.status.idle": "2025-09-29T13:12:32.468789Z",
     "shell.execute_reply": "2025-09-29T13:12:32.467912Z"
    },
    "papermill": {
     "duration": 105.35334,
     "end_time": "2025-09-29T13:12:32.470173",
     "exception": false,
     "start_time": "2025-09-29T13:10:47.116833",
     "status": "completed"
    },
    "tags": []
   },
   "outputs": [
    {
     "name": "stdout",
     "output_type": "stream",
     "text": [
      "\n",
      "======== Epoch 1 / 4 ========\n",
      "Training...\n",
      "  Batch    40  of    127.    Elapsed: 0:00:09.\n",
      "  Batch    80  of    127.    Elapsed: 0:00:17.\n",
      "  Batch   120  of    127.    Elapsed: 0:00:25.\n",
      "\n",
      "  Average training loss: 0.82\n",
      "  Training Accuracy: 0.68\n",
      "  Training epoch took: 0:00:26\n",
      "\n",
      "======== Epoch 2 / 4 ========\n",
      "Training...\n",
      "  Batch    40  of    127.    Elapsed: 0:00:08.\n",
      "  Batch    80  of    127.    Elapsed: 0:00:16.\n",
      "  Batch   120  of    127.    Elapsed: 0:00:24.\n",
      "\n",
      "  Average training loss: 0.26\n",
      "  Training Accuracy: 0.93\n",
      "  Training epoch took: 0:00:26\n",
      "\n",
      "======== Epoch 3 / 4 ========\n",
      "Training...\n",
      "  Batch    40  of    127.    Elapsed: 0:00:08.\n",
      "  Batch    80  of    127.    Elapsed: 0:00:16.\n",
      "  Batch   120  of    127.    Elapsed: 0:00:24.\n",
      "\n",
      "  Average training loss: 0.12\n",
      "  Training Accuracy: 0.96\n",
      "  Training epoch took: 0:00:26\n",
      "\n",
      "======== Epoch 4 / 4 ========\n",
      "Training...\n",
      "  Batch    40  of    127.    Elapsed: 0:00:08.\n",
      "  Batch    80  of    127.    Elapsed: 0:00:16.\n",
      "  Batch   120  of    127.    Elapsed: 0:00:24.\n",
      "\n",
      "  Average training loss: 0.07\n",
      "  Training Accuracy: 0.98\n",
      "  Training epoch took: 0:00:26\n",
      "\n",
      "Running Validation...\n",
      "  Validation Accuracy: 0.96\n",
      "  Validation Loss: 0.16\n",
      "  Validation took: 0:00:02\n",
      "\n",
      "Classification Report:\n",
      "                                precision    recall  f1-score   support\n",
      "\n",
      "Academic Support and Resources       0.95      0.94      0.94       285\n",
      "             Financial Support       0.98      0.99      0.99       309\n",
      "                            IT       0.94      0.96      0.95       271\n",
      "               Student Affairs       0.98      0.98      0.98       292\n",
      "\n",
      "                      accuracy                           0.96      1157\n",
      "                     macro avg       0.96      0.96      0.96      1157\n",
      "                  weighted avg       0.96      0.96      0.96      1157\n",
      "\n",
      "Confusion Matrix:\n",
      "[[267   4  12   2]\n",
      " [  3 305   1   0]\n",
      " [  9   0 259   3]\n",
      " [  3   1   3 285]]\n",
      "F1 Score (macro): 0.9638\n",
      "F1 Score (micro): 0.9646\n",
      "F1 Score (weighted): 0.9646\n",
      "F1 Score (macro, from scratch): 0.9638\n"
     ]
    }
   ],
   "source": [
    "from sklearn.metrics import classification_report, confusion_matrix\n",
    "import numpy as np\n",
    "\n",
    "training_stats = []\n",
    "\n",
    "# Measure total training time\n",
    "total_t0 = time.time()\n",
    "\n",
    "for epoch_i in range(0, epochs):\n",
    "    print(\"\")\n",
    "    print('======== Epoch {:} / {:} ========'.format(epoch_i + 1, epochs))\n",
    "    print('Training...')\n",
    "\n",
    "    t0 = time.time()\n",
    "    total_train_loss = 0\n",
    "    total_train_accuracy = 0\n",
    "\n",
    "    model.train()\n",
    "\n",
    "    for step, batch in enumerate(train_dataloader):\n",
    "        if step % 40 == 0 and not step == 0:\n",
    "            elapsed = format_time(time.time() - t0)\n",
    "            print('  Batch {:>5,}  of  {:>5,}.    Elapsed: {:}.'.format(\n",
    "                step, len(train_dataloader), elapsed))\n",
    "\n",
    "        b_input_ids = batch[0].to(device)\n",
    "        b_input_mask = batch[1].to(device)\n",
    "        b_labels = batch[2].to(device)\n",
    "\n",
    "        model.zero_grad()        \n",
    "\n",
    "        outputs = model(\n",
    "            b_input_ids, \n",
    "            token_type_ids=None, \n",
    "            attention_mask=b_input_mask, \n",
    "            labels=b_labels\n",
    "        )\n",
    "        \n",
    "        loss = outputs.loss\n",
    "        logits = outputs.logits\n",
    "\n",
    "        total_train_loss += loss.item()\n",
    "\n",
    "        # Training accuracy\n",
    "        logits = logits.detach().cpu().numpy()\n",
    "        label_ids = b_labels.to('cpu').numpy()\n",
    "        total_train_accuracy += flat_accuracy(logits, label_ids)\n",
    "\n",
    "        # Backprop\n",
    "        loss.backward()\n",
    "        torch.nn.utils.clip_grad_norm_(model.parameters(), 1.0)\n",
    "        optimizer.step()\n",
    "        scheduler.step()\n",
    "\n",
    "    avg_train_loss = total_train_loss / len(train_dataloader)            \n",
    "    avg_train_accuracy = total_train_accuracy / len(train_dataloader)  \n",
    "    training_time = format_time(time.time() - t0)\n",
    "\n",
    "    print(\"\")\n",
    "    print(\"  Average training loss: {0:.2f}\".format(avg_train_loss))\n",
    "    print(\"  Training Accuracy: {0:.2f}\".format(avg_train_accuracy))  \n",
    "    print(\"  Training epoch took: {:}\".format(training_time))\n",
    "\n",
    "    # ===== Validation =====\n",
    "from sklearn.metrics import classification_report, confusion_matrix, f1_score\n",
    "\n",
    "# ===== Validation =====\n",
    "print(\"\")\n",
    "print(\"Running Validation...\")\n",
    "\n",
    "t0 = time.time()\n",
    "model.eval()\n",
    "\n",
    "total_eval_accuracy = 0\n",
    "total_eval_loss = 0\n",
    "\n",
    "all_preds = []\n",
    "all_labels = []\n",
    "\n",
    "for batch in validation_dataloader:\n",
    "    b_input_ids = batch[0].to(device)\n",
    "    b_input_mask = batch[1].to(device)\n",
    "    b_labels = batch[2].to(device)\n",
    "\n",
    "    with torch.no_grad():        \n",
    "        outputs = model(\n",
    "            b_input_ids, \n",
    "            token_type_ids=None, \n",
    "            attention_mask=b_input_mask, \n",
    "            labels=b_labels\n",
    "        )\n",
    "        \n",
    "        loss = outputs.loss\n",
    "        logits = outputs.logits\n",
    "            \n",
    "    total_eval_loss += loss.item()\n",
    "\n",
    "    preds = np.argmax(logits.detach().cpu().numpy(), axis=1)\n",
    "    labels = b_labels.to('cpu').numpy()\n",
    "\n",
    "    all_preds.extend(preds)\n",
    "    all_labels.extend(labels)\n",
    "\n",
    "    total_eval_accuracy += np.sum(preds == labels) / len(labels)\n",
    "\n",
    "avg_val_accuracy = total_eval_accuracy / len(validation_dataloader)\n",
    "avg_val_loss = total_eval_loss / len(validation_dataloader)\n",
    "validation_time = format_time(time.time() - t0)\n",
    "\n",
    "print(\"  Validation Accuracy: {0:.2f}\".format(avg_val_accuracy))\n",
    "print(\"  Validation Loss: {0:.2f}\".format(avg_val_loss))\n",
    "print(\"  Validation took: {:}\".format(validation_time))\n",
    "\n",
    "# === NEW: Classification Report + Confusion Matrix + F1 ===\n",
    "print(\"\\nClassification Report:\")\n",
    "print(classification_report(all_labels, all_preds, target_names=list(id2label.values())))\n",
    "\n",
    "print(\"Confusion Matrix:\")\n",
    "print(confusion_matrix(all_labels, all_preds))\n",
    "\n",
    "# F1 with sklearn\n",
    "print(\"F1 Score (macro): {:.4f}\".format(f1_score(all_labels, all_preds, average='macro')))\n",
    "print(\"F1 Score (micro): {:.4f}\".format(f1_score(all_labels, all_preds, average='micro')))\n",
    "print(\"F1 Score (weighted): {:.4f}\".format(f1_score(all_labels, all_preds, average='weighted')))\n",
    "\n",
    "# F1 from scratch\n",
    "print(\"F1 Score (macro, from scratch): {:.4f}\".format(f1_score_from_scratch(np.array(all_labels), np.array(all_preds))))\n"
   ]
  },
  {
   "cell_type": "code",
   "execution_count": 25,
   "id": "fa1b01f3",
   "metadata": {
    "execution": {
     "iopub.execute_input": "2025-09-29T13:12:32.488328Z",
     "iopub.status.busy": "2025-09-29T13:12:32.487918Z",
     "iopub.status.idle": "2025-09-29T13:12:33.404130Z",
     "shell.execute_reply": "2025-09-29T13:12:33.403507Z"
    },
    "papermill": {
     "duration": 0.926391,
     "end_time": "2025-09-29T13:12:33.405644",
     "exception": false,
     "start_time": "2025-09-29T13:12:32.479253",
     "status": "completed"
    },
    "tags": []
   },
   "outputs": [],
   "source": [
    "from transformers import BertTokenizer\n",
    "import torch\n",
    "import numpy as np\n",
    "\n",
    "# Load the same tokenizer used for training (multilingual)\n",
    "tokenizer = BertTokenizer.from_pretrained(\"bert-base-multilingual-uncased\")\n",
    "\n",
    "def predict_sentence(sentence, model, device):\n",
    "    # Tokenize the input (works with Arabic, English, etc.)\n",
    "    encoded_dict = tokenizer.encode_plus(\n",
    "        sentence,                      \n",
    "        add_special_tokens=True,       # [CLS] and [SEP]\n",
    "        max_length=64,                 # Pad & truncate\n",
    "        padding='max_length',\n",
    "        truncation=True,\n",
    "        return_attention_mask=True,    \n",
    "        return_tensors='pt',           \n",
    "    )\n",
    "    \n",
    "    # Move tensors to device\n",
    "    input_ids = encoded_dict['input_ids'].to(device)\n",
    "    attention_mask = encoded_dict['attention_mask'].to(device)\n",
    "    \n",
    "    # Eval mode\n",
    "    model.eval()\n",
    "    with torch.no_grad():\n",
    "        outputs = model(input_ids, attention_mask=attention_mask)\n",
    "        logits = outputs.logits\n",
    "\n",
    "    # Convert logits to prediction\n",
    "    probs = torch.nn.functional.softmax(logits, dim=1)\n",
    "    predicted_class = torch.argmax(probs, dim=1).cpu().item()\n",
    "    \n",
    "    return predicted_class, probs.cpu().numpy()\n"
   ]
  },
  {
   "cell_type": "code",
   "execution_count": 26,
   "id": "0cdfb43a",
   "metadata": {
    "execution": {
     "iopub.execute_input": "2025-09-29T13:12:33.423302Z",
     "iopub.status.busy": "2025-09-29T13:12:33.422894Z",
     "iopub.status.idle": "2025-09-29T13:12:34.394119Z",
     "shell.execute_reply": "2025-09-29T13:12:34.393211Z"
    },
    "papermill": {
     "duration": 0.981456,
     "end_time": "2025-09-29T13:12:34.395706",
     "exception": false,
     "start_time": "2025-09-29T13:12:33.414250",
     "status": "completed"
    },
    "tags": []
   },
   "outputs": [
    {
     "name": "stdout",
     "output_type": "stream",
     "text": [
      "\n",
      "Running Test Evaluation...\n",
      "  Test Accuracy: 0.97\n",
      "  Test Loss: 0.10\n",
      "\n",
      "Classification Report:\n",
      "                                precision    recall  f1-score   support\n",
      "\n",
      "Academic Support and Resources       0.94      0.94      0.94       138\n",
      "             Financial Support       1.00      0.99      1.00       151\n",
      "                            IT       0.96      0.96      0.96       163\n",
      "               Student Affairs       0.98      0.98      0.98       128\n",
      "\n",
      "                      accuracy                           0.97       580\n",
      "                     macro avg       0.97      0.97      0.97       580\n",
      "                  weighted avg       0.97      0.97      0.97       580\n",
      "\n",
      "Confusion Matrix:\n",
      "[[130   0   6   2]\n",
      " [  1 150   0   0]\n",
      " [  5   0 157   1]\n",
      " [  2   0   1 125]]\n"
     ]
    }
   ],
   "source": [
    "from torch.utils.data import DataLoader, RandomSampler, SequentialSampler\n",
    "from sklearn.metrics import classification_report, confusion_matrix\n",
    "import torch\n",
    "import numpy as np\n",
    "\n",
    "# For testing we don’t need shuffling (use SequentialSampler)\n",
    "batch_size = 32  # adjust depending on GPU memory\n",
    "\n",
    "test_dataloader = DataLoader(\n",
    "    test_dataset,  # <-- the dataset you got from random_split\n",
    "    sampler=SequentialSampler(test_dataset),\n",
    "    batch_size=batch_size\n",
    ")\n",
    "\n",
    "print(\"\")\n",
    "print(\"Running Test Evaluation...\")\n",
    "\n",
    "model.eval()\n",
    "total_test_accuracy = 0\n",
    "total_test_loss = 0\n",
    "\n",
    "all_preds = []\n",
    "all_labels = []\n",
    "\n",
    "for batch in test_dataloader:\n",
    "    b_input_ids = batch[0].to(device)\n",
    "    b_input_mask = batch[1].to(device)\n",
    "    b_labels = batch[2].to(device)\n",
    "\n",
    "    with torch.no_grad():\n",
    "        outputs = model(\n",
    "            b_input_ids,\n",
    "            token_type_ids=None,\n",
    "            attention_mask=b_input_mask,\n",
    "            labels=b_labels\n",
    "        )\n",
    "        loss = outputs.loss\n",
    "        logits = outputs.logits\n",
    "\n",
    "    total_test_loss += loss.item()\n",
    "    logits = logits.detach().cpu().numpy()\n",
    "    label_ids = b_labels.to('cpu').numpy()\n",
    "\n",
    "    # Accuracy\n",
    "    total_test_accuracy += flat_accuracy(logits, label_ids)\n",
    "\n",
    "    # Predictions\n",
    "    preds = np.argmax(logits, axis=1).flatten()\n",
    "    all_preds.extend(preds)\n",
    "    all_labels.extend(label_ids)\n",
    "\n",
    "avg_test_accuracy = total_test_accuracy / len(test_dataloader)\n",
    "avg_test_loss = total_test_loss / len(test_dataloader)\n",
    "\n",
    "print(\"  Test Accuracy: {0:.2f}\".format(avg_test_accuracy))\n",
    "print(\"  Test Loss: {0:.2f}\".format(avg_test_loss))\n",
    "\n",
    "# ---- Extra evaluation ----\n",
    "print(\"\\nClassification Report:\")\n",
    "print(classification_report(all_labels, all_preds, target_names=encoder.classes_))\n",
    "\n",
    "print(\"Confusion Matrix:\")\n",
    "print(confusion_matrix(all_labels, all_preds))\n"
   ]
  },
  {
   "cell_type": "code",
   "execution_count": 27,
   "id": "cb12562a",
   "metadata": {
    "execution": {
     "iopub.execute_input": "2025-09-29T13:12:34.416125Z",
     "iopub.status.busy": "2025-09-29T13:12:34.415917Z",
     "iopub.status.idle": "2025-09-29T13:12:35.418455Z",
     "shell.execute_reply": "2025-09-29T13:12:35.417355Z"
    },
    "papermill": {
     "duration": 1.014244,
     "end_time": "2025-09-29T13:12:35.419697",
     "exception": false,
     "start_time": "2025-09-29T13:12:34.405453",
     "status": "completed"
    },
    "tags": []
   },
   "outputs": [
    {
     "name": "stdout",
     "output_type": "stream",
     "text": [
      "Sentence: I need help understanding the course material.\n",
      "Predicted Category: Academic Support\n",
      "\n",
      "Sentence: My scholarship payment has not arrived yet.\n",
      "Predicted Category: Financial Support\n",
      "\n",
      "Sentence: The university Wi-Fi is not working.\n",
      "Predicted Category: IT\n",
      "\n",
      "Sentence: I want to apply for a student club.\n",
      "Predicted Category: Student Affairs\n",
      "\n",
      "Sentence: أحتاج إلى مساعدة في فهم محاضراتي.\n",
      "Predicted Category: Academic Support\n",
      "\n",
      "Sentence: لم أتسلم المنحة المالية حتى الآن.\n",
      "Predicted Category: Financial Support\n",
      "\n",
      "Sentence: الإنترنت في الجامعة بطيء جدًا.\n",
      "Predicted Category: IT\n",
      "\n",
      "Sentence: أرغب في التسجيل في نشاط طلابي.\n",
      "Predicted Category: IT\n",
      "\n"
     ]
    }
   ],
   "source": [
    "import torch\n",
    "import numpy as np\n",
    "from transformers import BertTokenizer\n",
    "\n",
    "# Load the same multilingual tokenizer\n",
    "tokenizer = BertTokenizer.from_pretrained(\"bert-base-multilingual-uncased\")\n",
    "\n",
    "# Define your label mapping (order must match your training)\n",
    "categories = [\"Academic Support\", \"Financial Support\", \"IT\", \"Student Affairs\"]\n",
    "\n",
    "def predict_sentence(sentence, model, device):\n",
    "    encoded_dict = tokenizer.encode_plus(\n",
    "        sentence,\n",
    "        add_special_tokens=True,\n",
    "        max_length=64,\n",
    "        padding='max_length',\n",
    "        truncation=True,\n",
    "        return_attention_mask=True,\n",
    "        return_tensors='pt',\n",
    "    )\n",
    "\n",
    "    input_ids = encoded_dict['input_ids'].to(device)\n",
    "    attention_mask = encoded_dict['attention_mask'].to(device)\n",
    "\n",
    "    model.eval()\n",
    "    with torch.no_grad():\n",
    "        outputs = model(input_ids, attention_mask=attention_mask)\n",
    "        logits = outputs.logits\n",
    "\n",
    "    probs = torch.nn.functional.softmax(logits, dim=1)\n",
    "    predicted_class = torch.argmax(probs, dim=1).cpu().item()\n",
    "\n",
    "    return categories[predicted_class], probs.cpu().numpy()\n",
    "\n",
    "# Example test sentences (Arabic + English)\n",
    "test_sentences = [\n",
    "    \"I need help understanding the course material.\",\n",
    "    \"My scholarship payment has not arrived yet.\",\n",
    "    \"The university Wi-Fi is not working.\",\n",
    "    \"I want to apply for a student club.\",\n",
    "    \"أحتاج إلى مساعدة في فهم محاضراتي.\",\n",
    "    \"لم أتسلم المنحة المالية حتى الآن.\",\n",
    "    \"الإنترنت في الجامعة بطيء جدًا.\",\n",
    "    \"أرغب في التسجيل في نشاط طلابي.\"\n",
    "]\n",
    "\n",
    "# Run predictions\n",
    "for s in test_sentences:\n",
    "    pred_class, probs = predict_sentence(s, model, device)\n",
    "    print(f\"Sentence: {s}\")\n",
    "    print(f\"Predicted Category: {pred_class}\\n\")\n",
    "# Sentence: I need help understanding the course material.\n",
    "# Predicted Category: Academic Support\n",
    "\n",
    "# Sentence: My scholarship payment has not arrived yet.\n",
    "# Predicted Category: Financial Support\n",
    "\n",
    "# Sentence: The university Wi-Fi is not working.\n",
    "# Predicted Category: IT\n",
    "\n",
    "# Sentence: I want to apply for a student club.\n",
    "# Predicted Category: Student Affairs\n",
    "\n",
    "# Sentence: أحتاج إلى مساعدة في فهم محاضراتي.\n",
    "# Predicted Category: Academic Support\n",
    "\n",
    "# Sentence: لم أتسلم المنحة المالية حتى الآن.\n",
    "# Predicted Category: Financial Support\n",
    "\n",
    "# Sentence: الإنترنت في الجامعة بطيء جدًا.\n",
    "# Predicted Category: IT\n",
    "\n",
    "# Sentence: أرغب في التسجيل في نشاط طلابي.\n",
    "# Predicted Category: Student Affairs\n",
    "\n"
   ]
  },
  {
   "cell_type": "code",
   "execution_count": 28,
   "id": "85d79a0c",
   "metadata": {
    "execution": {
     "iopub.execute_input": "2025-09-29T13:12:35.437645Z",
     "iopub.status.busy": "2025-09-29T13:12:35.437444Z",
     "iopub.status.idle": "2025-09-29T13:12:35.441398Z",
     "shell.execute_reply": "2025-09-29T13:12:35.440772Z"
    },
    "papermill": {
     "duration": 0.013868,
     "end_time": "2025-09-29T13:12:35.442411",
     "exception": false,
     "start_time": "2025-09-29T13:12:35.428543",
     "status": "completed"
    },
    "tags": []
   },
   "outputs": [
    {
     "name": "stdout",
     "output_type": "stream",
     "text": [
      "['Academic Support and Resources' 'Financial Support' 'IT'\n",
      " 'Student Affairs']\n",
      "{0: 'Academic Support and Resources', 1: 'Financial Support', 2: 'IT', 3: 'Student Affairs'}\n"
     ]
    }
   ],
   "source": [
    "print(encoder.classes_)\n",
    "id2label = dict(enumerate(encoder.classes_))\n",
    "print(id2label)\n"
   ]
  },
  {
   "cell_type": "code",
   "execution_count": 29,
   "id": "f60bceed",
   "metadata": {
    "execution": {
     "iopub.execute_input": "2025-09-29T13:12:35.459290Z",
     "iopub.status.busy": "2025-09-29T13:12:35.459090Z",
     "iopub.status.idle": "2025-09-29T13:12:35.464419Z",
     "shell.execute_reply": "2025-09-29T13:12:35.463770Z"
    },
    "papermill": {
     "duration": 0.014908,
     "end_time": "2025-09-29T13:12:35.465430",
     "exception": false,
     "start_time": "2025-09-29T13:12:35.450522",
     "status": "completed"
    },
    "tags": []
   },
   "outputs": [
    {
     "data": {
      "text/plain": [
       "{'المصاريف دي عاملاني مشاكل كبيرة، والردود مش موجودة أبداً.': 'Financial Support',\n",
       " 'السكن الجامعي غير ملائم بتاتاً، والنظافة في أسوأ حال.': 'Student Affairs',\n",
       " 'أحتاج تفاصيل أكثر عن طريقة استخدام المختبر لأني محتار.': 'Academic Support and Resources',\n",
       " 'خدمة الإنترنت في المكتبة غير ثابتة، وهذا يعيق تحضير الأبحاث.': 'IT',\n",
       " 'تتغير الفواتير دون إبلاغ، وهذا غير مقبول ويجب تصحيحه فوراً.': 'Financial Support'}"
      ]
     },
     "execution_count": 29,
     "metadata": {},
     "output_type": "execute_result"
    }
   ],
   "source": [
    "categ = ['Financial Support',  'Student Affairs',  'Academic Support and Resources',  'IT',  'Financial Support']\n",
    "complaint = ['المصاريف دي عاملاني مشاكل كبيرة، والردود مش موجودة أبداً.',  'السكن الجامعي غير ملائم بتاتاً، والنظافة في أسوأ حال.', 'أحتاج تفاصيل أكثر عن طريقة استخدام المختبر لأني محتار.', 'خدمة الإنترنت في المكتبة غير ثابتة، وهذا يعيق تحضير الأبحاث.',  'تتغير الفواتير دون إبلاغ، وهذا غير مقبول ويجب تصحيحه فوراً.']\n",
    "test={}\n",
    "for i in range (len(categ)):\n",
    "    test[complaint[i]]=categ[i]\n",
    "test"
   ]
  },
  {
   "cell_type": "code",
   "execution_count": 30,
   "id": "f9f690ee",
   "metadata": {
    "execution": {
     "iopub.execute_input": "2025-09-29T13:12:35.483049Z",
     "iopub.status.busy": "2025-09-29T13:12:35.482858Z",
     "iopub.status.idle": "2025-09-29T13:12:35.531422Z",
     "shell.execute_reply": "2025-09-29T13:12:35.530615Z"
    },
    "papermill": {
     "duration": 0.05883,
     "end_time": "2025-09-29T13:12:35.532529",
     "exception": false,
     "start_time": "2025-09-29T13:12:35.473699",
     "status": "completed"
    },
    "tags": []
   },
   "outputs": [
    {
     "name": "stdout",
     "output_type": "stream",
     "text": [
      "Sentence: المصاريف دي عاملاني مشاكل كبيرة، والردود مش موجودة أبداً.\n",
      "Predicted Category: Financial Support\n",
      "\n",
      "Sentence: السكن الجامعي غير ملائم بتاتاً، والنظافة في أسوأ حال.\n",
      "Predicted Category: Student Affairs\n",
      "\n",
      "Sentence: أحتاج تفاصيل أكثر عن طريقة استخدام المختبر لأني محتار.\n",
      "Predicted Category: Academic Support\n",
      "\n",
      "Sentence: خدمة الإنترنت في المكتبة غير ثابتة، وهذا يعيق تحضير الأبحاث.\n",
      "Predicted Category: IT\n",
      "\n",
      "Sentence: تتغير الفواتير دون إبلاغ، وهذا غير مقبول ويجب تصحيحه فوراً.\n",
      "Predicted Category: Financial Support\n",
      "\n"
     ]
    }
   ],
   "source": [
    "for s in test.keys():\n",
    "    pred_class, probs = predict_sentence(s, model, device)\n",
    "    print(f\"Sentence: {s}\")\n",
    "    print(f\"Predicted Category: {pred_class}\\n\")"
   ]
  },
  {
   "cell_type": "code",
   "execution_count": 31,
   "id": "417c1707",
   "metadata": {
    "execution": {
     "iopub.execute_input": "2025-09-29T13:12:35.550129Z",
     "iopub.status.busy": "2025-09-29T13:12:35.549898Z",
     "iopub.status.idle": "2025-09-29T13:12:35.555183Z",
     "shell.execute_reply": "2025-09-29T13:12:35.554621Z"
    },
    "papermill": {
     "duration": 0.015298,
     "end_time": "2025-09-29T13:12:35.556191",
     "exception": false,
     "start_time": "2025-09-29T13:12:35.540893",
     "status": "completed"
    },
    "tags": []
   },
   "outputs": [
    {
     "data": {
      "text/plain": [
       "{'المحاضرات غير منظمة وتحتاج ترتيب.': 'Academic Support and Resources',\n",
       " 'المساعدات لا تصل للطلاب المحتاجين.': 'Financial Support',\n",
       " 'الواجهة الإلكترونية للجامعة مش واضحة ومحبطة': 'Academic Support and Resources',\n",
       " 'سكن الطلاب عامل زي ملعب مصارعة مصري، دايمًا فيه مصارعين جدد': 'Student Affairs',\n",
       " 'عدم انتظام مواعيد النقل يسبب مشكلات كبيرة للطلاب': 'Student Affairs'}"
      ]
     },
     "execution_count": 31,
     "metadata": {},
     "output_type": "execute_result"
    }
   ],
   "source": [
    "complaint = ['المحاضرات غير منظمة وتحتاج ترتيب.', 'المساعدات لا تصل للطلاب المحتاجين.',  'الواجهة الإلكترونية للجامعة مش واضحة ومحبطة', 'سكن الطلاب عامل زي ملعب مصارعة مصري، دايمًا فيه مصارعين جدد',  'عدم انتظام مواعيد النقل يسبب مشكلات كبيرة للطلاب']\n",
    "categ = [ 'Academic Support and Resources', 'Financial Support', 'Academic Support and Resources', 'Student Affairs','Student Affairs']\n",
    "test={}\n",
    "for i in range (len(categ)):\n",
    "    test[complaint[i]]=categ[i]\n",
    "test"
   ]
  },
  {
   "cell_type": "code",
   "execution_count": 32,
   "id": "a8cf36e5",
   "metadata": {
    "execution": {
     "iopub.execute_input": "2025-09-29T13:12:35.573949Z",
     "iopub.status.busy": "2025-09-29T13:12:35.573409Z",
     "iopub.status.idle": "2025-09-29T13:12:35.621088Z",
     "shell.execute_reply": "2025-09-29T13:12:35.620271Z"
    },
    "papermill": {
     "duration": 0.057612,
     "end_time": "2025-09-29T13:12:35.622294",
     "exception": false,
     "start_time": "2025-09-29T13:12:35.564682",
     "status": "completed"
    },
    "tags": []
   },
   "outputs": [
    {
     "name": "stdout",
     "output_type": "stream",
     "text": [
      "Sentence: المحاضرات غير منظمة وتحتاج ترتيب.\n",
      "Predicted Category: Academic Support\n",
      "\n",
      "Sentence: المساعدات لا تصل للطلاب المحتاجين.\n",
      "Predicted Category: Financial Support\n",
      "\n",
      "Sentence: الواجهة الإلكترونية للجامعة مش واضحة ومحبطة\n",
      "Predicted Category: Academic Support\n",
      "\n",
      "Sentence: سكن الطلاب عامل زي ملعب مصارعة مصري، دايمًا فيه مصارعين جدد\n",
      "Predicted Category: Student Affairs\n",
      "\n",
      "Sentence: عدم انتظام مواعيد النقل يسبب مشكلات كبيرة للطلاب\n",
      "Predicted Category: Student Affairs\n",
      "\n"
     ]
    }
   ],
   "source": [
    "for s in test.keys():\n",
    "    pred_class, probs = predict_sentence(s, model, device)\n",
    "    print(f\"Sentence: {s}\")\n",
    "    print(f\"Predicted Category: {pred_class}\\n\")"
   ]
  },
  {
   "cell_type": "code",
   "execution_count": 33,
   "id": "245b05fe",
   "metadata": {
    "execution": {
     "iopub.execute_input": "2025-09-29T13:12:35.639969Z",
     "iopub.status.busy": "2025-09-29T13:12:35.639767Z",
     "iopub.status.idle": "2025-09-29T13:12:37.168425Z",
     "shell.execute_reply": "2025-09-29T13:12:37.167828Z"
    },
    "papermill": {
     "duration": 1.539043,
     "end_time": "2025-09-29T13:12:37.169876",
     "exception": false,
     "start_time": "2025-09-29T13:12:35.630833",
     "status": "completed"
    },
    "tags": []
   },
   "outputs": [],
   "source": [
    "import pickle\n",
    "with open(\"rf_classifier.pkl\", \"wb\") as f:\n",
    "    pickle.dump(model, f)"
   ]
  },
  {
   "cell_type": "code",
   "execution_count": 34,
   "id": "bab768d8",
   "metadata": {
    "execution": {
     "iopub.execute_input": "2025-09-29T13:12:37.188193Z",
     "iopub.status.busy": "2025-09-29T13:12:37.187614Z",
     "iopub.status.idle": "2025-09-29T13:12:37.253182Z",
     "shell.execute_reply": "2025-09-29T13:12:37.252569Z"
    },
    "papermill": {
     "duration": 0.075766,
     "end_time": "2025-09-29T13:12:37.254379",
     "exception": false,
     "start_time": "2025-09-29T13:12:37.178613",
     "status": "completed"
    },
    "tags": []
   },
   "outputs": [
    {
     "data": {
      "text/plain": [
       "('local_tokenizer/tokenizer_config.json',\n",
       " 'local_tokenizer/special_tokens_map.json',\n",
       " 'local_tokenizer/vocab.txt',\n",
       " 'local_tokenizer/added_tokens.json')"
      ]
     },
     "execution_count": 34,
     "metadata": {},
     "output_type": "execute_result"
    }
   ],
   "source": [
    "tokenizer.save_pretrained(\"local_tokenizer\")"
   ]
  },
  {
   "cell_type": "code",
   "execution_count": 35,
   "id": "63ccc064",
   "metadata": {
    "execution": {
     "iopub.execute_input": "2025-09-29T13:12:37.272410Z",
     "iopub.status.busy": "2025-09-29T13:12:37.272161Z",
     "iopub.status.idle": "2025-09-29T13:12:38.494282Z",
     "shell.execute_reply": "2025-09-29T13:12:38.493673Z"
    },
    "papermill": {
     "duration": 1.232539,
     "end_time": "2025-09-29T13:12:38.495710",
     "exception": false,
     "start_time": "2025-09-29T13:12:37.263171",
     "status": "completed"
    },
    "tags": []
   },
   "outputs": [],
   "source": [
    "import torch\n",
    "\n",
    "# Assume `model` is your trained PyTorch model\n",
    "torch.save(model.state_dict(), \"rf_classifier.pth\")  # save only the weights\n"
   ]
  },
  {
   "cell_type": "code",
   "execution_count": 36,
   "id": "d37d2bbe",
   "metadata": {
    "execution": {
     "iopub.execute_input": "2025-09-29T13:12:38.514117Z",
     "iopub.status.busy": "2025-09-29T13:12:38.513897Z",
     "iopub.status.idle": "2025-09-29T13:12:40.014397Z",
     "shell.execute_reply": "2025-09-29T13:12:40.013779Z"
    },
    "papermill": {
     "duration": 1.511071,
     "end_time": "2025-09-29T13:12:40.015865",
     "exception": false,
     "start_time": "2025-09-29T13:12:38.504794",
     "status": "completed"
    },
    "tags": []
   },
   "outputs": [],
   "source": [
    "model.save_pretrained(\"classification\")"
   ]
  },
  {
   "cell_type": "code",
   "execution_count": 37,
   "id": "a9f33e29",
   "metadata": {
    "execution": {
     "iopub.execute_input": "2025-09-29T13:12:40.034393Z",
     "iopub.status.busy": "2025-09-29T13:12:40.033816Z",
     "iopub.status.idle": "2025-09-29T13:12:42.425150Z",
     "shell.execute_reply": "2025-09-29T13:12:42.424285Z"
    },
    "papermill": {
     "duration": 2.401507,
     "end_time": "2025-09-29T13:12:42.426409",
     "exception": false,
     "start_time": "2025-09-29T13:12:40.024902",
     "status": "completed"
    },
    "tags": []
   },
   "outputs": [
    {
     "name": "stdout",
     "output_type": "stream",
     "text": [
      "Model & tokenizer saved as bert_model.pkl\n"
     ]
    }
   ],
   "source": [
    "import torch\n",
    "import pickle\n",
    "from transformers import BertForSequenceClassification, BertTokenizer\n",
    "device = torch.device(\"cpu\")\n",
    "model.to(device)\n",
    "model.eval()\n",
    "# Save both model state_dict and tokenizer in one dictionary\n",
    "data_to_save = {\n",
    "    \"model_state_dict\": model.state_dict(),\n",
    "    \"tokenizer\": tokenizer,\n",
    "    \"num_labels\": 4\n",
    "}\n",
    "\n",
    "with open(\"bert_model.pkl\", \"wb\") as f:\n",
    "    pickle.dump(data_to_save, f)\n",
    "\n",
    "print(\"Model & tokenizer saved as bert_model.pkl\")\n"
   ]
  },
  {
   "cell_type": "code",
   "execution_count": 38,
   "id": "b1c9b3ff",
   "metadata": {
    "execution": {
     "iopub.execute_input": "2025-09-29T13:12:42.444781Z",
     "iopub.status.busy": "2025-09-29T13:12:42.444537Z",
     "iopub.status.idle": "2025-09-29T13:12:44.301922Z",
     "shell.execute_reply": "2025-09-29T13:12:44.301231Z"
    },
    "papermill": {
     "duration": 1.867684,
     "end_time": "2025-09-29T13:12:44.303178",
     "exception": false,
     "start_time": "2025-09-29T13:12:42.435494",
     "status": "completed"
    },
    "tags": []
   },
   "outputs": [
    {
     "data": {
      "text/plain": [
       "('./classification/tokenizer_config.json',\n",
       " './classification/special_tokens_map.json',\n",
       " './classification/vocab.txt',\n",
       " './classification/added_tokens.json')"
      ]
     },
     "execution_count": 38,
     "metadata": {},
     "output_type": "execute_result"
    }
   ],
   "source": [
    "\n",
    "# Save both model + tokenizer together\n",
    "model.save_pretrained(\"./classification\")\n",
    "tokenizer.save_pretrained(\"./classification\")"
   ]
  }
 ],
 "metadata": {
  "kaggle": {
   "accelerator": "gpu",
   "dataSources": [
    {
     "datasetId": 8228405,
     "sourceId": 12999045,
     "sourceType": "datasetVersion"
    },
    {
     "datasetId": 8229768,
     "sourceId": 13000608,
     "sourceType": "datasetVersion"
    },
    {
     "datasetId": 8229794,
     "sourceId": 13000647,
     "sourceType": "datasetVersion"
    }
   ],
   "dockerImageVersionId": 31090,
   "isGpuEnabled": true,
   "isInternetEnabled": true,
   "language": "python",
   "sourceType": "notebook"
  },
  "kernelspec": {
   "display_name": "Python 3",
   "language": "python",
   "name": "python3"
  },
  "language_info": {
   "codemirror_mode": {
    "name": "ipython",
    "version": 3
   },
   "file_extension": ".py",
   "mimetype": "text/x-python",
   "name": "python",
   "nbconvert_exporter": "python",
   "pygments_lexer": "ipython3",
   "version": "3.11.13"
  },
  "papermill": {
   "default_parameters": {},
   "duration": 174.261698,
   "end_time": "2025-09-29T13:12:47.598085",
   "environment_variables": {},
   "exception": null,
   "input_path": "__notebook__.ipynb",
   "output_path": "__notebook__.ipynb",
   "parameters": {},
   "start_time": "2025-09-29T13:09:53.336387",
   "version": "2.6.0"
  },
  "widgets": {
   "application/vnd.jupyter.widget-state+json": {
    "state": {
     "00106603d6f84f3ebe5fedcd894010c5": {
      "model_module": "@jupyter-widgets/controls",
      "model_module_version": "2.0.0",
      "model_name": "ProgressStyleModel",
      "state": {
       "_model_module": "@jupyter-widgets/controls",
       "_model_module_version": "2.0.0",
       "_model_name": "ProgressStyleModel",
       "_view_count": null,
       "_view_module": "@jupyter-widgets/base",
       "_view_module_version": "2.0.0",
       "_view_name": "StyleView",
       "bar_color": null,
       "description_width": ""
      }
     },
     "04083fea340144cf8089548126d0aaea": {
      "model_module": "@jupyter-widgets/controls",
      "model_module_version": "2.0.0",
      "model_name": "FloatProgressModel",
      "state": {
       "_dom_classes": [],
       "_model_module": "@jupyter-widgets/controls",
       "_model_module_version": "2.0.0",
       "_model_name": "FloatProgressModel",
       "_view_count": null,
       "_view_module": "@jupyter-widgets/controls",
       "_view_module_version": "2.0.0",
       "_view_name": "ProgressView",
       "bar_style": "success",
       "description": "",
       "description_allow_html": false,
       "layout": "IPY_MODEL_c16b19f06414495fbaae6deb10711310",
       "max": 625.0,
       "min": 0.0,
       "orientation": "horizontal",
       "style": "IPY_MODEL_00106603d6f84f3ebe5fedcd894010c5",
       "tabbable": null,
       "tooltip": null,
       "value": 625.0
      }
     },
     "061c854240474995baa0824938322e28": {
      "model_module": "@jupyter-widgets/controls",
      "model_module_version": "2.0.0",
      "model_name": "HTMLStyleModel",
      "state": {
       "_model_module": "@jupyter-widgets/controls",
       "_model_module_version": "2.0.0",
       "_model_name": "HTMLStyleModel",
       "_view_count": null,
       "_view_module": "@jupyter-widgets/base",
       "_view_module_version": "2.0.0",
       "_view_name": "StyleView",
       "background": null,
       "description_width": "",
       "font_size": null,
       "text_color": null
      }
     },
     "106e5b218fab40489d5e58539726bf76": {
      "model_module": "@jupyter-widgets/controls",
      "model_module_version": "2.0.0",
      "model_name": "HBoxModel",
      "state": {
       "_dom_classes": [],
       "_model_module": "@jupyter-widgets/controls",
       "_model_module_version": "2.0.0",
       "_model_name": "HBoxModel",
       "_view_count": null,
       "_view_module": "@jupyter-widgets/controls",
       "_view_module_version": "2.0.0",
       "_view_name": "HBoxView",
       "box_style": "",
       "children": [
        "IPY_MODEL_8efca2d50d5941999ea2ce8b1b2b262d",
        "IPY_MODEL_e90d9a98ffa143d08b7ea4aac8bb6548",
        "IPY_MODEL_c0cc275cc0d544c3a171ba42e567a057"
       ],
       "layout": "IPY_MODEL_31d852ed08ae45eba058cdd74309b99e",
       "tabbable": null,
       "tooltip": null
      }
     },
     "194c35884cf14f4bba3246ec9a595fa2": {
      "model_module": "@jupyter-widgets/controls",
      "model_module_version": "2.0.0",
      "model_name": "HBoxModel",
      "state": {
       "_dom_classes": [],
       "_model_module": "@jupyter-widgets/controls",
       "_model_module_version": "2.0.0",
       "_model_name": "HBoxModel",
       "_view_count": null,
       "_view_module": "@jupyter-widgets/controls",
       "_view_module_version": "2.0.0",
       "_view_name": "HBoxView",
       "box_style": "",
       "children": [
        "IPY_MODEL_48356ac7c9874c8c8bf93051eb163743",
        "IPY_MODEL_60b85f270cf34421a5946987798be706",
        "IPY_MODEL_df5e52ca1e634993a5a3cd6b2028643b"
       ],
       "layout": "IPY_MODEL_e65b201dee1f4d8ba2876d7cc1106f61",
       "tabbable": null,
       "tooltip": null
      }
     },
     "1a572d82d56543eba7a88687a49557e6": {
      "model_module": "@jupyter-widgets/controls",
      "model_module_version": "2.0.0",
      "model_name": "HTMLStyleModel",
      "state": {
       "_model_module": "@jupyter-widgets/controls",
       "_model_module_version": "2.0.0",
       "_model_name": "HTMLStyleModel",
       "_view_count": null,
       "_view_module": "@jupyter-widgets/base",
       "_view_module_version": "2.0.0",
       "_view_name": "StyleView",
       "background": null,
       "description_width": "",
       "font_size": null,
       "text_color": null
      }
     },
     "1d8158c2e1d34be2a353ac53a81eab0d": {
      "model_module": "@jupyter-widgets/controls",
      "model_module_version": "2.0.0",
      "model_name": "ProgressStyleModel",
      "state": {
       "_model_module": "@jupyter-widgets/controls",
       "_model_module_version": "2.0.0",
       "_model_name": "ProgressStyleModel",
       "_view_count": null,
       "_view_module": "@jupyter-widgets/base",
       "_view_module_version": "2.0.0",
       "_view_name": "StyleView",
       "bar_color": null,
       "description_width": ""
      }
     },
     "233e87074ddb41c9a0f65a01be066e89": {
      "model_module": "@jupyter-widgets/controls",
      "model_module_version": "2.0.0",
      "model_name": "HBoxModel",
      "state": {
       "_dom_classes": [],
       "_model_module": "@jupyter-widgets/controls",
       "_model_module_version": "2.0.0",
       "_model_name": "HBoxModel",
       "_view_count": null,
       "_view_module": "@jupyter-widgets/controls",
       "_view_module_version": "2.0.0",
       "_view_name": "HBoxView",
       "box_style": "",
       "children": [
        "IPY_MODEL_4c7597c9972343c29fb542a6deead132",
        "IPY_MODEL_c4987344521241469fded2ee64bcadc4",
        "IPY_MODEL_f8082532f51c4cb0bd64983b29e4d522"
       ],
       "layout": "IPY_MODEL_eda3a76395b74e34ac57cd83dba119a7",
       "tabbable": null,
       "tooltip": null
      }
     },
     "236b4a8284ec403ea082e51e7190516b": {
      "model_module": "@jupyter-widgets/controls",
      "model_module_version": "2.0.0",
      "model_name": "FloatProgressModel",
      "state": {
       "_dom_classes": [],
       "_model_module": "@jupyter-widgets/controls",
       "_model_module_version": "2.0.0",
       "_model_name": "FloatProgressModel",
       "_view_count": null,
       "_view_module": "@jupyter-widgets/controls",
       "_view_module_version": "2.0.0",
       "_view_name": "ProgressView",
       "bar_style": "success",
       "description": "",
       "description_allow_html": false,
       "layout": "IPY_MODEL_57259165ae5d4f9499adc261ff4177b6",
       "max": 1715180.0,
       "min": 0.0,
       "orientation": "horizontal",
       "style": "IPY_MODEL_df7198e245a14f44aa65fa1f6b4afd55",
       "tabbable": null,
       "tooltip": null,
       "value": 1715180.0
      }
     },
     "277620acf11c443ea31af355059d78d1": {
      "model_module": "@jupyter-widgets/base",
      "model_module_version": "2.0.0",
      "model_name": "LayoutModel",
      "state": {
       "_model_module": "@jupyter-widgets/base",
       "_model_module_version": "2.0.0",
       "_model_name": "LayoutModel",
       "_view_count": null,
       "_view_module": "@jupyter-widgets/base",
       "_view_module_version": "2.0.0",
       "_view_name": "LayoutView",
       "align_content": null,
       "align_items": null,
       "align_self": null,
       "border_bottom": null,
       "border_left": null,
       "border_right": null,
       "border_top": null,
       "bottom": null,
       "display": null,
       "flex": null,
       "flex_flow": null,
       "grid_area": null,
       "grid_auto_columns": null,
       "grid_auto_flow": null,
       "grid_auto_rows": null,
       "grid_column": null,
       "grid_gap": null,
       "grid_row": null,
       "grid_template_areas": null,
       "grid_template_columns": null,
       "grid_template_rows": null,
       "height": null,
       "justify_content": null,
       "justify_items": null,
       "left": null,
       "margin": null,
       "max_height": null,
       "max_width": null,
       "min_height": null,
       "min_width": null,
       "object_fit": null,
       "object_position": null,
       "order": null,
       "overflow": null,
       "padding": null,
       "right": null,
       "top": null,
       "visibility": null,
       "width": null
      }
     },
     "2901fa46248e4e59915fd87afffeb55a": {
      "model_module": "@jupyter-widgets/controls",
      "model_module_version": "2.0.0",
      "model_name": "HTMLStyleModel",
      "state": {
       "_model_module": "@jupyter-widgets/controls",
       "_model_module_version": "2.0.0",
       "_model_name": "HTMLStyleModel",
       "_view_count": null,
       "_view_module": "@jupyter-widgets/base",
       "_view_module_version": "2.0.0",
       "_view_name": "StyleView",
       "background": null,
       "description_width": "",
       "font_size": null,
       "text_color": null
      }
     },
     "298ae9dc354140d398991ca0a34ef515": {
      "model_module": "@jupyter-widgets/controls",
      "model_module_version": "2.0.0",
      "model_name": "HTMLStyleModel",
      "state": {
       "_model_module": "@jupyter-widgets/controls",
       "_model_module_version": "2.0.0",
       "_model_name": "HTMLStyleModel",
       "_view_count": null,
       "_view_module": "@jupyter-widgets/base",
       "_view_module_version": "2.0.0",
       "_view_name": "StyleView",
       "background": null,
       "description_width": "",
       "font_size": null,
       "text_color": null
      }
     },
     "31d852ed08ae45eba058cdd74309b99e": {
      "model_module": "@jupyter-widgets/base",
      "model_module_version": "2.0.0",
      "model_name": "LayoutModel",
      "state": {
       "_model_module": "@jupyter-widgets/base",
       "_model_module_version": "2.0.0",
       "_model_name": "LayoutModel",
       "_view_count": null,
       "_view_module": "@jupyter-widgets/base",
       "_view_module_version": "2.0.0",
       "_view_name": "LayoutView",
       "align_content": null,
       "align_items": null,
       "align_self": null,
       "border_bottom": null,
       "border_left": null,
       "border_right": null,
       "border_top": null,
       "bottom": null,
       "display": null,
       "flex": null,
       "flex_flow": null,
       "grid_area": null,
       "grid_auto_columns": null,
       "grid_auto_flow": null,
       "grid_auto_rows": null,
       "grid_column": null,
       "grid_gap": null,
       "grid_row": null,
       "grid_template_areas": null,
       "grid_template_columns": null,
       "grid_template_rows": null,
       "height": null,
       "justify_content": null,
       "justify_items": null,
       "left": null,
       "margin": null,
       "max_height": null,
       "max_width": null,
       "min_height": null,
       "min_width": null,
       "object_fit": null,
       "object_position": null,
       "order": null,
       "overflow": null,
       "padding": null,
       "right": null,
       "top": null,
       "visibility": null,
       "width": null
      }
     },
     "337f24dc722a468b9a1c5c0171c97ad1": {
      "model_module": "@jupyter-widgets/base",
      "model_module_version": "2.0.0",
      "model_name": "LayoutModel",
      "state": {
       "_model_module": "@jupyter-widgets/base",
       "_model_module_version": "2.0.0",
       "_model_name": "LayoutModel",
       "_view_count": null,
       "_view_module": "@jupyter-widgets/base",
       "_view_module_version": "2.0.0",
       "_view_name": "LayoutView",
       "align_content": null,
       "align_items": null,
       "align_self": null,
       "border_bottom": null,
       "border_left": null,
       "border_right": null,
       "border_top": null,
       "bottom": null,
       "display": null,
       "flex": null,
       "flex_flow": null,
       "grid_area": null,
       "grid_auto_columns": null,
       "grid_auto_flow": null,
       "grid_auto_rows": null,
       "grid_column": null,
       "grid_gap": null,
       "grid_row": null,
       "grid_template_areas": null,
       "grid_template_columns": null,
       "grid_template_rows": null,
       "height": null,
       "justify_content": null,
       "justify_items": null,
       "left": null,
       "margin": null,
       "max_height": null,
       "max_width": null,
       "min_height": null,
       "min_width": null,
       "object_fit": null,
       "object_position": null,
       "order": null,
       "overflow": null,
       "padding": null,
       "right": null,
       "top": null,
       "visibility": null,
       "width": null
      }
     },
     "3af612f179e148d2a2cf80df0cb01ba6": {
      "model_module": "@jupyter-widgets/controls",
      "model_module_version": "2.0.0",
      "model_name": "HTMLModel",
      "state": {
       "_dom_classes": [],
       "_model_module": "@jupyter-widgets/controls",
       "_model_module_version": "2.0.0",
       "_model_name": "HTMLModel",
       "_view_count": null,
       "_view_module": "@jupyter-widgets/controls",
       "_view_module_version": "2.0.0",
       "_view_name": "HTMLView",
       "description": "",
       "description_allow_html": false,
       "layout": "IPY_MODEL_4faf04a5f4a04818a277aba84cf3fb68",
       "placeholder": "​",
       "style": "IPY_MODEL_061c854240474995baa0824938322e28",
       "tabbable": null,
       "tooltip": null,
       "value": " 1.72M/1.72M [00:00&lt;00:00, 2.84MB/s]"
      }
     },
     "3e3c4f6684194640867108cda172e157": {
      "model_module": "@jupyter-widgets/controls",
      "model_module_version": "2.0.0",
      "model_name": "HBoxModel",
      "state": {
       "_dom_classes": [],
       "_model_module": "@jupyter-widgets/controls",
       "_model_module_version": "2.0.0",
       "_model_name": "HBoxModel",
       "_view_count": null,
       "_view_module": "@jupyter-widgets/controls",
       "_view_module_version": "2.0.0",
       "_view_name": "HBoxView",
       "box_style": "",
       "children": [
        "IPY_MODEL_dea0ef00726340ada78f680a7090134c",
        "IPY_MODEL_04083fea340144cf8089548126d0aaea",
        "IPY_MODEL_a84c2cd5f7a043c58f3d0b1f892cdcce"
       ],
       "layout": "IPY_MODEL_7dbf2cca135c44f6ba26ba976787bd8a",
       "tabbable": null,
       "tooltip": null
      }
     },
     "45f17c499aa24621989d6b5ee874e70e": {
      "model_module": "@jupyter-widgets/controls",
      "model_module_version": "2.0.0",
      "model_name": "HTMLStyleModel",
      "state": {
       "_model_module": "@jupyter-widgets/controls",
       "_model_module_version": "2.0.0",
       "_model_name": "HTMLStyleModel",
       "_view_count": null,
       "_view_module": "@jupyter-widgets/base",
       "_view_module_version": "2.0.0",
       "_view_name": "StyleView",
       "background": null,
       "description_width": "",
       "font_size": null,
       "text_color": null
      }
     },
     "47a572b101f24dc69fe4fbf6e00ba2b3": {
      "model_module": "@jupyter-widgets/controls",
      "model_module_version": "2.0.0",
      "model_name": "HTMLStyleModel",
      "state": {
       "_model_module": "@jupyter-widgets/controls",
       "_model_module_version": "2.0.0",
       "_model_name": "HTMLStyleModel",
       "_view_count": null,
       "_view_module": "@jupyter-widgets/base",
       "_view_module_version": "2.0.0",
       "_view_name": "StyleView",
       "background": null,
       "description_width": "",
       "font_size": null,
       "text_color": null
      }
     },
     "48356ac7c9874c8c8bf93051eb163743": {
      "model_module": "@jupyter-widgets/controls",
      "model_module_version": "2.0.0",
      "model_name": "HTMLModel",
      "state": {
       "_dom_classes": [],
       "_model_module": "@jupyter-widgets/controls",
       "_model_module_version": "2.0.0",
       "_model_name": "HTMLModel",
       "_view_count": null,
       "_view_module": "@jupyter-widgets/controls",
       "_view_module_version": "2.0.0",
       "_view_name": "HTMLView",
       "description": "",
       "description_allow_html": false,
       "layout": "IPY_MODEL_7af15b07009a4c46a3db1e79f25329d2",
       "placeholder": "​",
       "style": "IPY_MODEL_554da4bc5d8745049aa866ab68e8c5d1",
       "tabbable": null,
       "tooltip": null,
       "value": "tokenizer_config.json: 100%"
      }
     },
     "498993acadf34b8992034d823fe15bda": {
      "model_module": "@jupyter-widgets/base",
      "model_module_version": "2.0.0",
      "model_name": "LayoutModel",
      "state": {
       "_model_module": "@jupyter-widgets/base",
       "_model_module_version": "2.0.0",
       "_model_name": "LayoutModel",
       "_view_count": null,
       "_view_module": "@jupyter-widgets/base",
       "_view_module_version": "2.0.0",
       "_view_name": "LayoutView",
       "align_content": null,
       "align_items": null,
       "align_self": null,
       "border_bottom": null,
       "border_left": null,
       "border_right": null,
       "border_top": null,
       "bottom": null,
       "display": null,
       "flex": null,
       "flex_flow": null,
       "grid_area": null,
       "grid_auto_columns": null,
       "grid_auto_flow": null,
       "grid_auto_rows": null,
       "grid_column": null,
       "grid_gap": null,
       "grid_row": null,
       "grid_template_areas": null,
       "grid_template_columns": null,
       "grid_template_rows": null,
       "height": null,
       "justify_content": null,
       "justify_items": null,
       "left": null,
       "margin": null,
       "max_height": null,
       "max_width": null,
       "min_height": null,
       "min_width": null,
       "object_fit": null,
       "object_position": null,
       "order": null,
       "overflow": null,
       "padding": null,
       "right": null,
       "top": null,
       "visibility": null,
       "width": null
      }
     },
     "4b72347aa9dc4a09bb4c1626c56cc8a5": {
      "model_module": "@jupyter-widgets/base",
      "model_module_version": "2.0.0",
      "model_name": "LayoutModel",
      "state": {
       "_model_module": "@jupyter-widgets/base",
       "_model_module_version": "2.0.0",
       "_model_name": "LayoutModel",
       "_view_count": null,
       "_view_module": "@jupyter-widgets/base",
       "_view_module_version": "2.0.0",
       "_view_name": "LayoutView",
       "align_content": null,
       "align_items": null,
       "align_self": null,
       "border_bottom": null,
       "border_left": null,
       "border_right": null,
       "border_top": null,
       "bottom": null,
       "display": null,
       "flex": null,
       "flex_flow": null,
       "grid_area": null,
       "grid_auto_columns": null,
       "grid_auto_flow": null,
       "grid_auto_rows": null,
       "grid_column": null,
       "grid_gap": null,
       "grid_row": null,
       "grid_template_areas": null,
       "grid_template_columns": null,
       "grid_template_rows": null,
       "height": null,
       "justify_content": null,
       "justify_items": null,
       "left": null,
       "margin": null,
       "max_height": null,
       "max_width": null,
       "min_height": null,
       "min_width": null,
       "object_fit": null,
       "object_position": null,
       "order": null,
       "overflow": null,
       "padding": null,
       "right": null,
       "top": null,
       "visibility": null,
       "width": null
      }
     },
     "4c7597c9972343c29fb542a6deead132": {
      "model_module": "@jupyter-widgets/controls",
      "model_module_version": "2.0.0",
      "model_name": "HTMLModel",
      "state": {
       "_dom_classes": [],
       "_model_module": "@jupyter-widgets/controls",
       "_model_module_version": "2.0.0",
       "_model_name": "HTMLModel",
       "_view_count": null,
       "_view_module": "@jupyter-widgets/controls",
       "_view_module_version": "2.0.0",
       "_view_name": "HTMLView",
       "description": "",
       "description_allow_html": false,
       "layout": "IPY_MODEL_8f60844234714c04a2e3f26c75f7e1c9",
       "placeholder": "​",
       "style": "IPY_MODEL_2901fa46248e4e59915fd87afffeb55a",
       "tabbable": null,
       "tooltip": null,
       "value": "vocab.txt: 100%"
      }
     },
     "4faf04a5f4a04818a277aba84cf3fb68": {
      "model_module": "@jupyter-widgets/base",
      "model_module_version": "2.0.0",
      "model_name": "LayoutModel",
      "state": {
       "_model_module": "@jupyter-widgets/base",
       "_model_module_version": "2.0.0",
       "_model_name": "LayoutModel",
       "_view_count": null,
       "_view_module": "@jupyter-widgets/base",
       "_view_module_version": "2.0.0",
       "_view_name": "LayoutView",
       "align_content": null,
       "align_items": null,
       "align_self": null,
       "border_bottom": null,
       "border_left": null,
       "border_right": null,
       "border_top": null,
       "bottom": null,
       "display": null,
       "flex": null,
       "flex_flow": null,
       "grid_area": null,
       "grid_auto_columns": null,
       "grid_auto_flow": null,
       "grid_auto_rows": null,
       "grid_column": null,
       "grid_gap": null,
       "grid_row": null,
       "grid_template_areas": null,
       "grid_template_columns": null,
       "grid_template_rows": null,
       "height": null,
       "justify_content": null,
       "justify_items": null,
       "left": null,
       "margin": null,
       "max_height": null,
       "max_width": null,
       "min_height": null,
       "min_width": null,
       "object_fit": null,
       "object_position": null,
       "order": null,
       "overflow": null,
       "padding": null,
       "right": null,
       "top": null,
       "visibility": null,
       "width": null
      }
     },
     "554da4bc5d8745049aa866ab68e8c5d1": {
      "model_module": "@jupyter-widgets/controls",
      "model_module_version": "2.0.0",
      "model_name": "HTMLStyleModel",
      "state": {
       "_model_module": "@jupyter-widgets/controls",
       "_model_module_version": "2.0.0",
       "_model_name": "HTMLStyleModel",
       "_view_count": null,
       "_view_module": "@jupyter-widgets/base",
       "_view_module_version": "2.0.0",
       "_view_name": "StyleView",
       "background": null,
       "description_width": "",
       "font_size": null,
       "text_color": null
      }
     },
     "57259165ae5d4f9499adc261ff4177b6": {
      "model_module": "@jupyter-widgets/base",
      "model_module_version": "2.0.0",
      "model_name": "LayoutModel",
      "state": {
       "_model_module": "@jupyter-widgets/base",
       "_model_module_version": "2.0.0",
       "_model_name": "LayoutModel",
       "_view_count": null,
       "_view_module": "@jupyter-widgets/base",
       "_view_module_version": "2.0.0",
       "_view_name": "LayoutView",
       "align_content": null,
       "align_items": null,
       "align_self": null,
       "border_bottom": null,
       "border_left": null,
       "border_right": null,
       "border_top": null,
       "bottom": null,
       "display": null,
       "flex": null,
       "flex_flow": null,
       "grid_area": null,
       "grid_auto_columns": null,
       "grid_auto_flow": null,
       "grid_auto_rows": null,
       "grid_column": null,
       "grid_gap": null,
       "grid_row": null,
       "grid_template_areas": null,
       "grid_template_columns": null,
       "grid_template_rows": null,
       "height": null,
       "justify_content": null,
       "justify_items": null,
       "left": null,
       "margin": null,
       "max_height": null,
       "max_width": null,
       "min_height": null,
       "min_width": null,
       "object_fit": null,
       "object_position": null,
       "order": null,
       "overflow": null,
       "padding": null,
       "right": null,
       "top": null,
       "visibility": null,
       "width": null
      }
     },
     "5f98011fbc1f4a6c909baa52db09b9d5": {
      "model_module": "@jupyter-widgets/controls",
      "model_module_version": "2.0.0",
      "model_name": "HBoxModel",
      "state": {
       "_dom_classes": [],
       "_model_module": "@jupyter-widgets/controls",
       "_model_module_version": "2.0.0",
       "_model_name": "HBoxModel",
       "_view_count": null,
       "_view_module": "@jupyter-widgets/controls",
       "_view_module_version": "2.0.0",
       "_view_name": "HBoxView",
       "box_style": "",
       "children": [
        "IPY_MODEL_6fa45b73863c4b8ab892e669825149ad",
        "IPY_MODEL_236b4a8284ec403ea082e51e7190516b",
        "IPY_MODEL_3af612f179e148d2a2cf80df0cb01ba6"
       ],
       "layout": "IPY_MODEL_a4313d7e910440f89f2d2d09f5586d76",
       "tabbable": null,
       "tooltip": null
      }
     },
     "60b85f270cf34421a5946987798be706": {
      "model_module": "@jupyter-widgets/controls",
      "model_module_version": "2.0.0",
      "model_name": "FloatProgressModel",
      "state": {
       "_dom_classes": [],
       "_model_module": "@jupyter-widgets/controls",
       "_model_module_version": "2.0.0",
       "_model_name": "FloatProgressModel",
       "_view_count": null,
       "_view_module": "@jupyter-widgets/controls",
       "_view_module_version": "2.0.0",
       "_view_name": "ProgressView",
       "bar_style": "success",
       "description": "",
       "description_allow_html": false,
       "layout": "IPY_MODEL_4b72347aa9dc4a09bb4c1626c56cc8a5",
       "max": 48.0,
       "min": 0.0,
       "orientation": "horizontal",
       "style": "IPY_MODEL_9c3c6f8435fb4f5e908fec5bd92dedd7",
       "tabbable": null,
       "tooltip": null,
       "value": 48.0
      }
     },
     "6771d4e5ceca4b9a877f4f1f228a3d01": {
      "model_module": "@jupyter-widgets/base",
      "model_module_version": "2.0.0",
      "model_name": "LayoutModel",
      "state": {
       "_model_module": "@jupyter-widgets/base",
       "_model_module_version": "2.0.0",
       "_model_name": "LayoutModel",
       "_view_count": null,
       "_view_module": "@jupyter-widgets/base",
       "_view_module_version": "2.0.0",
       "_view_name": "LayoutView",
       "align_content": null,
       "align_items": null,
       "align_self": null,
       "border_bottom": null,
       "border_left": null,
       "border_right": null,
       "border_top": null,
       "bottom": null,
       "display": null,
       "flex": null,
       "flex_flow": null,
       "grid_area": null,
       "grid_auto_columns": null,
       "grid_auto_flow": null,
       "grid_auto_rows": null,
       "grid_column": null,
       "grid_gap": null,
       "grid_row": null,
       "grid_template_areas": null,
       "grid_template_columns": null,
       "grid_template_rows": null,
       "height": null,
       "justify_content": null,
       "justify_items": null,
       "left": null,
       "margin": null,
       "max_height": null,
       "max_width": null,
       "min_height": null,
       "min_width": null,
       "object_fit": null,
       "object_position": null,
       "order": null,
       "overflow": null,
       "padding": null,
       "right": null,
       "top": null,
       "visibility": null,
       "width": null
      }
     },
     "6fa45b73863c4b8ab892e669825149ad": {
      "model_module": "@jupyter-widgets/controls",
      "model_module_version": "2.0.0",
      "model_name": "HTMLModel",
      "state": {
       "_dom_classes": [],
       "_model_module": "@jupyter-widgets/controls",
       "_model_module_version": "2.0.0",
       "_model_name": "HTMLModel",
       "_view_count": null,
       "_view_module": "@jupyter-widgets/controls",
       "_view_module_version": "2.0.0",
       "_view_name": "HTMLView",
       "description": "",
       "description_allow_html": false,
       "layout": "IPY_MODEL_d94a2dd96cab48798e14f0fcd7375ea1",
       "placeholder": "​",
       "style": "IPY_MODEL_ac16672ed1a2400ea12fd986b9a29730",
       "tabbable": null,
       "tooltip": null,
       "value": "tokenizer.json: 100%"
      }
     },
     "79bb40aa6dd94a62bf974e160b41ad24": {
      "model_module": "@jupyter-widgets/controls",
      "model_module_version": "2.0.0",
      "model_name": "HTMLStyleModel",
      "state": {
       "_model_module": "@jupyter-widgets/controls",
       "_model_module_version": "2.0.0",
       "_model_name": "HTMLStyleModel",
       "_view_count": null,
       "_view_module": "@jupyter-widgets/base",
       "_view_module_version": "2.0.0",
       "_view_name": "StyleView",
       "background": null,
       "description_width": "",
       "font_size": null,
       "text_color": null
      }
     },
     "7af15b07009a4c46a3db1e79f25329d2": {
      "model_module": "@jupyter-widgets/base",
      "model_module_version": "2.0.0",
      "model_name": "LayoutModel",
      "state": {
       "_model_module": "@jupyter-widgets/base",
       "_model_module_version": "2.0.0",
       "_model_name": "LayoutModel",
       "_view_count": null,
       "_view_module": "@jupyter-widgets/base",
       "_view_module_version": "2.0.0",
       "_view_name": "LayoutView",
       "align_content": null,
       "align_items": null,
       "align_self": null,
       "border_bottom": null,
       "border_left": null,
       "border_right": null,
       "border_top": null,
       "bottom": null,
       "display": null,
       "flex": null,
       "flex_flow": null,
       "grid_area": null,
       "grid_auto_columns": null,
       "grid_auto_flow": null,
       "grid_auto_rows": null,
       "grid_column": null,
       "grid_gap": null,
       "grid_row": null,
       "grid_template_areas": null,
       "grid_template_columns": null,
       "grid_template_rows": null,
       "height": null,
       "justify_content": null,
       "justify_items": null,
       "left": null,
       "margin": null,
       "max_height": null,
       "max_width": null,
       "min_height": null,
       "min_width": null,
       "object_fit": null,
       "object_position": null,
       "order": null,
       "overflow": null,
       "padding": null,
       "right": null,
       "top": null,
       "visibility": null,
       "width": null
      }
     },
     "7dbf2cca135c44f6ba26ba976787bd8a": {
      "model_module": "@jupyter-widgets/base",
      "model_module_version": "2.0.0",
      "model_name": "LayoutModel",
      "state": {
       "_model_module": "@jupyter-widgets/base",
       "_model_module_version": "2.0.0",
       "_model_name": "LayoutModel",
       "_view_count": null,
       "_view_module": "@jupyter-widgets/base",
       "_view_module_version": "2.0.0",
       "_view_name": "LayoutView",
       "align_content": null,
       "align_items": null,
       "align_self": null,
       "border_bottom": null,
       "border_left": null,
       "border_right": null,
       "border_top": null,
       "bottom": null,
       "display": null,
       "flex": null,
       "flex_flow": null,
       "grid_area": null,
       "grid_auto_columns": null,
       "grid_auto_flow": null,
       "grid_auto_rows": null,
       "grid_column": null,
       "grid_gap": null,
       "grid_row": null,
       "grid_template_areas": null,
       "grid_template_columns": null,
       "grid_template_rows": null,
       "height": null,
       "justify_content": null,
       "justify_items": null,
       "left": null,
       "margin": null,
       "max_height": null,
       "max_width": null,
       "min_height": null,
       "min_width": null,
       "object_fit": null,
       "object_position": null,
       "order": null,
       "overflow": null,
       "padding": null,
       "right": null,
       "top": null,
       "visibility": null,
       "width": null
      }
     },
     "8e765b7bdfc2420e81bd28420fb11667": {
      "model_module": "@jupyter-widgets/controls",
      "model_module_version": "2.0.0",
      "model_name": "ProgressStyleModel",
      "state": {
       "_model_module": "@jupyter-widgets/controls",
       "_model_module_version": "2.0.0",
       "_model_name": "ProgressStyleModel",
       "_view_count": null,
       "_view_module": "@jupyter-widgets/base",
       "_view_module_version": "2.0.0",
       "_view_name": "StyleView",
       "bar_color": null,
       "description_width": ""
      }
     },
     "8efca2d50d5941999ea2ce8b1b2b262d": {
      "model_module": "@jupyter-widgets/controls",
      "model_module_version": "2.0.0",
      "model_name": "HTMLModel",
      "state": {
       "_dom_classes": [],
       "_model_module": "@jupyter-widgets/controls",
       "_model_module_version": "2.0.0",
       "_model_name": "HTMLModel",
       "_view_count": null,
       "_view_module": "@jupyter-widgets/controls",
       "_view_module_version": "2.0.0",
       "_view_name": "HTMLView",
       "description": "",
       "description_allow_html": false,
       "layout": "IPY_MODEL_f4dc2a374c934c0abe149297e78e0f85",
       "placeholder": "​",
       "style": "IPY_MODEL_45f17c499aa24621989d6b5ee874e70e",
       "tabbable": null,
       "tooltip": null,
       "value": "model.safetensors: 100%"
      }
     },
     "8f60844234714c04a2e3f26c75f7e1c9": {
      "model_module": "@jupyter-widgets/base",
      "model_module_version": "2.0.0",
      "model_name": "LayoutModel",
      "state": {
       "_model_module": "@jupyter-widgets/base",
       "_model_module_version": "2.0.0",
       "_model_name": "LayoutModel",
       "_view_count": null,
       "_view_module": "@jupyter-widgets/base",
       "_view_module_version": "2.0.0",
       "_view_name": "LayoutView",
       "align_content": null,
       "align_items": null,
       "align_self": null,
       "border_bottom": null,
       "border_left": null,
       "border_right": null,
       "border_top": null,
       "bottom": null,
       "display": null,
       "flex": null,
       "flex_flow": null,
       "grid_area": null,
       "grid_auto_columns": null,
       "grid_auto_flow": null,
       "grid_auto_rows": null,
       "grid_column": null,
       "grid_gap": null,
       "grid_row": null,
       "grid_template_areas": null,
       "grid_template_columns": null,
       "grid_template_rows": null,
       "height": null,
       "justify_content": null,
       "justify_items": null,
       "left": null,
       "margin": null,
       "max_height": null,
       "max_width": null,
       "min_height": null,
       "min_width": null,
       "object_fit": null,
       "object_position": null,
       "order": null,
       "overflow": null,
       "padding": null,
       "right": null,
       "top": null,
       "visibility": null,
       "width": null
      }
     },
     "9c3c6f8435fb4f5e908fec5bd92dedd7": {
      "model_module": "@jupyter-widgets/controls",
      "model_module_version": "2.0.0",
      "model_name": "ProgressStyleModel",
      "state": {
       "_model_module": "@jupyter-widgets/controls",
       "_model_module_version": "2.0.0",
       "_model_name": "ProgressStyleModel",
       "_view_count": null,
       "_view_module": "@jupyter-widgets/base",
       "_view_module_version": "2.0.0",
       "_view_name": "StyleView",
       "bar_color": null,
       "description_width": ""
      }
     },
     "a4313d7e910440f89f2d2d09f5586d76": {
      "model_module": "@jupyter-widgets/base",
      "model_module_version": "2.0.0",
      "model_name": "LayoutModel",
      "state": {
       "_model_module": "@jupyter-widgets/base",
       "_model_module_version": "2.0.0",
       "_model_name": "LayoutModel",
       "_view_count": null,
       "_view_module": "@jupyter-widgets/base",
       "_view_module_version": "2.0.0",
       "_view_name": "LayoutView",
       "align_content": null,
       "align_items": null,
       "align_self": null,
       "border_bottom": null,
       "border_left": null,
       "border_right": null,
       "border_top": null,
       "bottom": null,
       "display": null,
       "flex": null,
       "flex_flow": null,
       "grid_area": null,
       "grid_auto_columns": null,
       "grid_auto_flow": null,
       "grid_auto_rows": null,
       "grid_column": null,
       "grid_gap": null,
       "grid_row": null,
       "grid_template_areas": null,
       "grid_template_columns": null,
       "grid_template_rows": null,
       "height": null,
       "justify_content": null,
       "justify_items": null,
       "left": null,
       "margin": null,
       "max_height": null,
       "max_width": null,
       "min_height": null,
       "min_width": null,
       "object_fit": null,
       "object_position": null,
       "order": null,
       "overflow": null,
       "padding": null,
       "right": null,
       "top": null,
       "visibility": null,
       "width": null
      }
     },
     "a84c2cd5f7a043c58f3d0b1f892cdcce": {
      "model_module": "@jupyter-widgets/controls",
      "model_module_version": "2.0.0",
      "model_name": "HTMLModel",
      "state": {
       "_dom_classes": [],
       "_model_module": "@jupyter-widgets/controls",
       "_model_module_version": "2.0.0",
       "_model_name": "HTMLModel",
       "_view_count": null,
       "_view_module": "@jupyter-widgets/controls",
       "_view_module_version": "2.0.0",
       "_view_name": "HTMLView",
       "description": "",
       "description_allow_html": false,
       "layout": "IPY_MODEL_337f24dc722a468b9a1c5c0171c97ad1",
       "placeholder": "​",
       "style": "IPY_MODEL_1a572d82d56543eba7a88687a49557e6",
       "tabbable": null,
       "tooltip": null,
       "value": " 625/625 [00:00&lt;00:00, 78.9kB/s]"
      }
     },
     "ac16672ed1a2400ea12fd986b9a29730": {
      "model_module": "@jupyter-widgets/controls",
      "model_module_version": "2.0.0",
      "model_name": "HTMLStyleModel",
      "state": {
       "_model_module": "@jupyter-widgets/controls",
       "_model_module_version": "2.0.0",
       "_model_name": "HTMLStyleModel",
       "_view_count": null,
       "_view_module": "@jupyter-widgets/base",
       "_view_module_version": "2.0.0",
       "_view_name": "StyleView",
       "background": null,
       "description_width": "",
       "font_size": null,
       "text_color": null
      }
     },
     "bc19e59b63ba40ca876e5b87b70067b8": {
      "model_module": "@jupyter-widgets/controls",
      "model_module_version": "2.0.0",
      "model_name": "HTMLStyleModel",
      "state": {
       "_model_module": "@jupyter-widgets/controls",
       "_model_module_version": "2.0.0",
       "_model_name": "HTMLStyleModel",
       "_view_count": null,
       "_view_module": "@jupyter-widgets/base",
       "_view_module_version": "2.0.0",
       "_view_name": "StyleView",
       "background": null,
       "description_width": "",
       "font_size": null,
       "text_color": null
      }
     },
     "bfb024278e3941558d920f0840097bfa": {
      "model_module": "@jupyter-widgets/base",
      "model_module_version": "2.0.0",
      "model_name": "LayoutModel",
      "state": {
       "_model_module": "@jupyter-widgets/base",
       "_model_module_version": "2.0.0",
       "_model_name": "LayoutModel",
       "_view_count": null,
       "_view_module": "@jupyter-widgets/base",
       "_view_module_version": "2.0.0",
       "_view_name": "LayoutView",
       "align_content": null,
       "align_items": null,
       "align_self": null,
       "border_bottom": null,
       "border_left": null,
       "border_right": null,
       "border_top": null,
       "bottom": null,
       "display": null,
       "flex": null,
       "flex_flow": null,
       "grid_area": null,
       "grid_auto_columns": null,
       "grid_auto_flow": null,
       "grid_auto_rows": null,
       "grid_column": null,
       "grid_gap": null,
       "grid_row": null,
       "grid_template_areas": null,
       "grid_template_columns": null,
       "grid_template_rows": null,
       "height": null,
       "justify_content": null,
       "justify_items": null,
       "left": null,
       "margin": null,
       "max_height": null,
       "max_width": null,
       "min_height": null,
       "min_width": null,
       "object_fit": null,
       "object_position": null,
       "order": null,
       "overflow": null,
       "padding": null,
       "right": null,
       "top": null,
       "visibility": null,
       "width": null
      }
     },
     "c0cc275cc0d544c3a171ba42e567a057": {
      "model_module": "@jupyter-widgets/controls",
      "model_module_version": "2.0.0",
      "model_name": "HTMLModel",
      "state": {
       "_dom_classes": [],
       "_model_module": "@jupyter-widgets/controls",
       "_model_module_version": "2.0.0",
       "_model_name": "HTMLModel",
       "_view_count": null,
       "_view_module": "@jupyter-widgets/controls",
       "_view_module_version": "2.0.0",
       "_view_name": "HTMLView",
       "description": "",
       "description_allow_html": false,
       "layout": "IPY_MODEL_6771d4e5ceca4b9a877f4f1f228a3d01",
       "placeholder": "​",
       "style": "IPY_MODEL_79bb40aa6dd94a62bf974e160b41ad24",
       "tabbable": null,
       "tooltip": null,
       "value": " 672M/672M [00:03&lt;00:00, 331MB/s]"
      }
     },
     "c16b19f06414495fbaae6deb10711310": {
      "model_module": "@jupyter-widgets/base",
      "model_module_version": "2.0.0",
      "model_name": "LayoutModel",
      "state": {
       "_model_module": "@jupyter-widgets/base",
       "_model_module_version": "2.0.0",
       "_model_name": "LayoutModel",
       "_view_count": null,
       "_view_module": "@jupyter-widgets/base",
       "_view_module_version": "2.0.0",
       "_view_name": "LayoutView",
       "align_content": null,
       "align_items": null,
       "align_self": null,
       "border_bottom": null,
       "border_left": null,
       "border_right": null,
       "border_top": null,
       "bottom": null,
       "display": null,
       "flex": null,
       "flex_flow": null,
       "grid_area": null,
       "grid_auto_columns": null,
       "grid_auto_flow": null,
       "grid_auto_rows": null,
       "grid_column": null,
       "grid_gap": null,
       "grid_row": null,
       "grid_template_areas": null,
       "grid_template_columns": null,
       "grid_template_rows": null,
       "height": null,
       "justify_content": null,
       "justify_items": null,
       "left": null,
       "margin": null,
       "max_height": null,
       "max_width": null,
       "min_height": null,
       "min_width": null,
       "object_fit": null,
       "object_position": null,
       "order": null,
       "overflow": null,
       "padding": null,
       "right": null,
       "top": null,
       "visibility": null,
       "width": null
      }
     },
     "c4987344521241469fded2ee64bcadc4": {
      "model_module": "@jupyter-widgets/controls",
      "model_module_version": "2.0.0",
      "model_name": "FloatProgressModel",
      "state": {
       "_dom_classes": [],
       "_model_module": "@jupyter-widgets/controls",
       "_model_module_version": "2.0.0",
       "_model_name": "FloatProgressModel",
       "_view_count": null,
       "_view_module": "@jupyter-widgets/controls",
       "_view_module_version": "2.0.0",
       "_view_name": "ProgressView",
       "bar_style": "success",
       "description": "",
       "description_allow_html": false,
       "layout": "IPY_MODEL_498993acadf34b8992034d823fe15bda",
       "max": 871891.0,
       "min": 0.0,
       "orientation": "horizontal",
       "style": "IPY_MODEL_8e765b7bdfc2420e81bd28420fb11667",
       "tabbable": null,
       "tooltip": null,
       "value": 871891.0
      }
     },
     "ca742a619ebe43309ba834da67626cc2": {
      "model_module": "@jupyter-widgets/base",
      "model_module_version": "2.0.0",
      "model_name": "LayoutModel",
      "state": {
       "_model_module": "@jupyter-widgets/base",
       "_model_module_version": "2.0.0",
       "_model_name": "LayoutModel",
       "_view_count": null,
       "_view_module": "@jupyter-widgets/base",
       "_view_module_version": "2.0.0",
       "_view_name": "LayoutView",
       "align_content": null,
       "align_items": null,
       "align_self": null,
       "border_bottom": null,
       "border_left": null,
       "border_right": null,
       "border_top": null,
       "bottom": null,
       "display": null,
       "flex": null,
       "flex_flow": null,
       "grid_area": null,
       "grid_auto_columns": null,
       "grid_auto_flow": null,
       "grid_auto_rows": null,
       "grid_column": null,
       "grid_gap": null,
       "grid_row": null,
       "grid_template_areas": null,
       "grid_template_columns": null,
       "grid_template_rows": null,
       "height": null,
       "justify_content": null,
       "justify_items": null,
       "left": null,
       "margin": null,
       "max_height": null,
       "max_width": null,
       "min_height": null,
       "min_width": null,
       "object_fit": null,
       "object_position": null,
       "order": null,
       "overflow": null,
       "padding": null,
       "right": null,
       "top": null,
       "visibility": null,
       "width": null
      }
     },
     "d16223f660f2462bbe0f82e31bb4d3aa": {
      "model_module": "@jupyter-widgets/base",
      "model_module_version": "2.0.0",
      "model_name": "LayoutModel",
      "state": {
       "_model_module": "@jupyter-widgets/base",
       "_model_module_version": "2.0.0",
       "_model_name": "LayoutModel",
       "_view_count": null,
       "_view_module": "@jupyter-widgets/base",
       "_view_module_version": "2.0.0",
       "_view_name": "LayoutView",
       "align_content": null,
       "align_items": null,
       "align_self": null,
       "border_bottom": null,
       "border_left": null,
       "border_right": null,
       "border_top": null,
       "bottom": null,
       "display": null,
       "flex": null,
       "flex_flow": null,
       "grid_area": null,
       "grid_auto_columns": null,
       "grid_auto_flow": null,
       "grid_auto_rows": null,
       "grid_column": null,
       "grid_gap": null,
       "grid_row": null,
       "grid_template_areas": null,
       "grid_template_columns": null,
       "grid_template_rows": null,
       "height": null,
       "justify_content": null,
       "justify_items": null,
       "left": null,
       "margin": null,
       "max_height": null,
       "max_width": null,
       "min_height": null,
       "min_width": null,
       "object_fit": null,
       "object_position": null,
       "order": null,
       "overflow": null,
       "padding": null,
       "right": null,
       "top": null,
       "visibility": null,
       "width": null
      }
     },
     "d94a2dd96cab48798e14f0fcd7375ea1": {
      "model_module": "@jupyter-widgets/base",
      "model_module_version": "2.0.0",
      "model_name": "LayoutModel",
      "state": {
       "_model_module": "@jupyter-widgets/base",
       "_model_module_version": "2.0.0",
       "_model_name": "LayoutModel",
       "_view_count": null,
       "_view_module": "@jupyter-widgets/base",
       "_view_module_version": "2.0.0",
       "_view_name": "LayoutView",
       "align_content": null,
       "align_items": null,
       "align_self": null,
       "border_bottom": null,
       "border_left": null,
       "border_right": null,
       "border_top": null,
       "bottom": null,
       "display": null,
       "flex": null,
       "flex_flow": null,
       "grid_area": null,
       "grid_auto_columns": null,
       "grid_auto_flow": null,
       "grid_auto_rows": null,
       "grid_column": null,
       "grid_gap": null,
       "grid_row": null,
       "grid_template_areas": null,
       "grid_template_columns": null,
       "grid_template_rows": null,
       "height": null,
       "justify_content": null,
       "justify_items": null,
       "left": null,
       "margin": null,
       "max_height": null,
       "max_width": null,
       "min_height": null,
       "min_width": null,
       "object_fit": null,
       "object_position": null,
       "order": null,
       "overflow": null,
       "padding": null,
       "right": null,
       "top": null,
       "visibility": null,
       "width": null
      }
     },
     "dea0ef00726340ada78f680a7090134c": {
      "model_module": "@jupyter-widgets/controls",
      "model_module_version": "2.0.0",
      "model_name": "HTMLModel",
      "state": {
       "_dom_classes": [],
       "_model_module": "@jupyter-widgets/controls",
       "_model_module_version": "2.0.0",
       "_model_name": "HTMLModel",
       "_view_count": null,
       "_view_module": "@jupyter-widgets/controls",
       "_view_module_version": "2.0.0",
       "_view_name": "HTMLView",
       "description": "",
       "description_allow_html": false,
       "layout": "IPY_MODEL_d16223f660f2462bbe0f82e31bb4d3aa",
       "placeholder": "​",
       "style": "IPY_MODEL_bc19e59b63ba40ca876e5b87b70067b8",
       "tabbable": null,
       "tooltip": null,
       "value": "config.json: 100%"
      }
     },
     "df5e52ca1e634993a5a3cd6b2028643b": {
      "model_module": "@jupyter-widgets/controls",
      "model_module_version": "2.0.0",
      "model_name": "HTMLModel",
      "state": {
       "_dom_classes": [],
       "_model_module": "@jupyter-widgets/controls",
       "_model_module_version": "2.0.0",
       "_model_name": "HTMLModel",
       "_view_count": null,
       "_view_module": "@jupyter-widgets/controls",
       "_view_module_version": "2.0.0",
       "_view_name": "HTMLView",
       "description": "",
       "description_allow_html": false,
       "layout": "IPY_MODEL_277620acf11c443ea31af355059d78d1",
       "placeholder": "​",
       "style": "IPY_MODEL_47a572b101f24dc69fe4fbf6e00ba2b3",
       "tabbable": null,
       "tooltip": null,
       "value": " 48.0/48.0 [00:00&lt;00:00, 5.75kB/s]"
      }
     },
     "df7198e245a14f44aa65fa1f6b4afd55": {
      "model_module": "@jupyter-widgets/controls",
      "model_module_version": "2.0.0",
      "model_name": "ProgressStyleModel",
      "state": {
       "_model_module": "@jupyter-widgets/controls",
       "_model_module_version": "2.0.0",
       "_model_name": "ProgressStyleModel",
       "_view_count": null,
       "_view_module": "@jupyter-widgets/base",
       "_view_module_version": "2.0.0",
       "_view_name": "StyleView",
       "bar_color": null,
       "description_width": ""
      }
     },
     "e65b201dee1f4d8ba2876d7cc1106f61": {
      "model_module": "@jupyter-widgets/base",
      "model_module_version": "2.0.0",
      "model_name": "LayoutModel",
      "state": {
       "_model_module": "@jupyter-widgets/base",
       "_model_module_version": "2.0.0",
       "_model_name": "LayoutModel",
       "_view_count": null,
       "_view_module": "@jupyter-widgets/base",
       "_view_module_version": "2.0.0",
       "_view_name": "LayoutView",
       "align_content": null,
       "align_items": null,
       "align_self": null,
       "border_bottom": null,
       "border_left": null,
       "border_right": null,
       "border_top": null,
       "bottom": null,
       "display": null,
       "flex": null,
       "flex_flow": null,
       "grid_area": null,
       "grid_auto_columns": null,
       "grid_auto_flow": null,
       "grid_auto_rows": null,
       "grid_column": null,
       "grid_gap": null,
       "grid_row": null,
       "grid_template_areas": null,
       "grid_template_columns": null,
       "grid_template_rows": null,
       "height": null,
       "justify_content": null,
       "justify_items": null,
       "left": null,
       "margin": null,
       "max_height": null,
       "max_width": null,
       "min_height": null,
       "min_width": null,
       "object_fit": null,
       "object_position": null,
       "order": null,
       "overflow": null,
       "padding": null,
       "right": null,
       "top": null,
       "visibility": null,
       "width": null
      }
     },
     "e90d9a98ffa143d08b7ea4aac8bb6548": {
      "model_module": "@jupyter-widgets/controls",
      "model_module_version": "2.0.0",
      "model_name": "FloatProgressModel",
      "state": {
       "_dom_classes": [],
       "_model_module": "@jupyter-widgets/controls",
       "_model_module_version": "2.0.0",
       "_model_name": "FloatProgressModel",
       "_view_count": null,
       "_view_module": "@jupyter-widgets/controls",
       "_view_module_version": "2.0.0",
       "_view_name": "ProgressView",
       "bar_style": "success",
       "description": "",
       "description_allow_html": false,
       "layout": "IPY_MODEL_ca742a619ebe43309ba834da67626cc2",
       "max": 672247920.0,
       "min": 0.0,
       "orientation": "horizontal",
       "style": "IPY_MODEL_1d8158c2e1d34be2a353ac53a81eab0d",
       "tabbable": null,
       "tooltip": null,
       "value": 672247920.0
      }
     },
     "eda3a76395b74e34ac57cd83dba119a7": {
      "model_module": "@jupyter-widgets/base",
      "model_module_version": "2.0.0",
      "model_name": "LayoutModel",
      "state": {
       "_model_module": "@jupyter-widgets/base",
       "_model_module_version": "2.0.0",
       "_model_name": "LayoutModel",
       "_view_count": null,
       "_view_module": "@jupyter-widgets/base",
       "_view_module_version": "2.0.0",
       "_view_name": "LayoutView",
       "align_content": null,
       "align_items": null,
       "align_self": null,
       "border_bottom": null,
       "border_left": null,
       "border_right": null,
       "border_top": null,
       "bottom": null,
       "display": null,
       "flex": null,
       "flex_flow": null,
       "grid_area": null,
       "grid_auto_columns": null,
       "grid_auto_flow": null,
       "grid_auto_rows": null,
       "grid_column": null,
       "grid_gap": null,
       "grid_row": null,
       "grid_template_areas": null,
       "grid_template_columns": null,
       "grid_template_rows": null,
       "height": null,
       "justify_content": null,
       "justify_items": null,
       "left": null,
       "margin": null,
       "max_height": null,
       "max_width": null,
       "min_height": null,
       "min_width": null,
       "object_fit": null,
       "object_position": null,
       "order": null,
       "overflow": null,
       "padding": null,
       "right": null,
       "top": null,
       "visibility": null,
       "width": null
      }
     },
     "f4dc2a374c934c0abe149297e78e0f85": {
      "model_module": "@jupyter-widgets/base",
      "model_module_version": "2.0.0",
      "model_name": "LayoutModel",
      "state": {
       "_model_module": "@jupyter-widgets/base",
       "_model_module_version": "2.0.0",
       "_model_name": "LayoutModel",
       "_view_count": null,
       "_view_module": "@jupyter-widgets/base",
       "_view_module_version": "2.0.0",
       "_view_name": "LayoutView",
       "align_content": null,
       "align_items": null,
       "align_self": null,
       "border_bottom": null,
       "border_left": null,
       "border_right": null,
       "border_top": null,
       "bottom": null,
       "display": null,
       "flex": null,
       "flex_flow": null,
       "grid_area": null,
       "grid_auto_columns": null,
       "grid_auto_flow": null,
       "grid_auto_rows": null,
       "grid_column": null,
       "grid_gap": null,
       "grid_row": null,
       "grid_template_areas": null,
       "grid_template_columns": null,
       "grid_template_rows": null,
       "height": null,
       "justify_content": null,
       "justify_items": null,
       "left": null,
       "margin": null,
       "max_height": null,
       "max_width": null,
       "min_height": null,
       "min_width": null,
       "object_fit": null,
       "object_position": null,
       "order": null,
       "overflow": null,
       "padding": null,
       "right": null,
       "top": null,
       "visibility": null,
       "width": null
      }
     },
     "f8082532f51c4cb0bd64983b29e4d522": {
      "model_module": "@jupyter-widgets/controls",
      "model_module_version": "2.0.0",
      "model_name": "HTMLModel",
      "state": {
       "_dom_classes": [],
       "_model_module": "@jupyter-widgets/controls",
       "_model_module_version": "2.0.0",
       "_model_name": "HTMLModel",
       "_view_count": null,
       "_view_module": "@jupyter-widgets/controls",
       "_view_module_version": "2.0.0",
       "_view_name": "HTMLView",
       "description": "",
       "description_allow_html": false,
       "layout": "IPY_MODEL_bfb024278e3941558d920f0840097bfa",
       "placeholder": "​",
       "style": "IPY_MODEL_298ae9dc354140d398991ca0a34ef515",
       "tabbable": null,
       "tooltip": null,
       "value": " 872k/872k [00:00&lt;00:00, 2.21MB/s]"
      }
     }
    },
    "version_major": 2,
    "version_minor": 0
   }
  }
 },
 "nbformat": 4,
 "nbformat_minor": 5
}
